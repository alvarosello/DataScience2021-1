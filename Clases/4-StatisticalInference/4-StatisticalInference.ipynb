{
 "cells": [
  {
   "cell_type": "markdown",
   "id": "ed8fa137",
   "metadata": {
    "slideshow": {
     "slide_type": "slide"
    }
   },
   "source": [
    "<br/>\n",
    "<img src=\"images/cd-logo-blue-600x600.png\" alt=\"\" width=\"130px\" align=\"left\"/>\n",
    "<img src=\"images/cd-logo-blue-600x600.png\" alt=\"\" width=\"130px\" align=\"right\"/>\n",
    "<div align=\"center\">\n",
    "<h2>Bootcamp Data Science - Módulo 1</h2><br/>\n",
    "<h1>Inferencia Estadística</h1>\n",
    "<br/><br/>\n",
    "    <b>Instructor Principal:</b> Patricio Olivares polivares@codingdojo.cl <br/>\n",
    "    <b>Instructor Asistente:</b> Jesús Ortiz jortiz@codingdojo.cl<br/><br/>\n",
    "    <b>Coding Dojo</b>\n",
    "\n",
    "</div>"
   ]
  },
  {
   "cell_type": "markdown",
   "id": "dfa1f9f3",
   "metadata": {
    "slideshow": {
     "slide_type": "slide"
    }
   },
   "source": [
    "# Tipos de errores"
   ]
  },
  {
   "cell_type": "markdown",
   "id": "e85578e0",
   "metadata": {
    "slideshow": {
     "slide_type": "fragment"
    }
   },
   "source": [
    "Para determinar el correcto funcionamiento de un algoritmo de clasificación, podemos preguntarnos\n",
    "\n",
    "- *¿Cuántas veces acertamos la clasificación de una clase y cuántas veces no?*\n",
    "\n",
    "Los errores que puede cometer nuestro clasificador son de dos tipos:"
   ]
  },
  {
   "cell_type": "markdown",
   "id": "5a547fe7",
   "metadata": {
    "slideshow": {
     "slide_type": "fragment"
    }
   },
   "source": [
    "## Errores de Tipo 1: Falso Positivo"
   ]
  },
  {
   "cell_type": "markdown",
   "id": "5d354bab",
   "metadata": {
    "slideshow": {
     "slide_type": "fragment"
    }
   },
   "source": [
    "Clasificamos un elemento como *perteneciente* (positivo) a la clase **incorrectamente** (falso)"
   ]
  },
  {
   "cell_type": "markdown",
   "id": "15a0d804",
   "metadata": {
    "slideshow": {
     "slide_type": "fragment"
    }
   },
   "source": [
    "<img src=\"images/un5.jpeg\" alt=\"\" width=\"300px\" align=\"center\"/>"
   ]
  },
  {
   "cell_type": "markdown",
   "id": "36600148",
   "metadata": {
    "slideshow": {
     "slide_type": "fragment"
    }
   },
   "source": [
    "## Errores de Tipo 2: Falso Negativo"
   ]
  },
  {
   "cell_type": "markdown",
   "id": "d33526dd",
   "metadata": {
    "slideshow": {
     "slide_type": "fragment"
    }
   },
   "source": [
    "Clasificamos un elemento como *no perteneciente* (negativo) a la clase **incorrectamente** (falso)"
   ]
  },
  {
   "cell_type": "markdown",
   "id": "a2a3e93f",
   "metadata": {
    "slideshow": {
     "slide_type": "fragment"
    }
   },
   "source": [
    "<img src=\"images/noUn5.jpeg\" alt=\"\" width=\"300px\" align=\"center\"/>"
   ]
  },
  {
   "cell_type": "markdown",
   "id": "3fbee85d",
   "metadata": {
    "slideshow": {
     "slide_type": "slide"
    }
   },
   "source": [
    "# Matriz de confusión"
   ]
  },
  {
   "cell_type": "markdown",
   "id": "87367930",
   "metadata": {
    "slideshow": {
     "slide_type": "fragment"
    }
   },
   "source": [
    "Permite contar la cantidad de veces que instancias de la clase A son clasificadas como clase B"
   ]
  },
  {
   "cell_type": "markdown",
   "id": "68bc819a",
   "metadata": {
    "slideshow": {
     "slide_type": "fragment"
    }
   },
   "source": [
    "<img src=\"images/matrizConfusion.png\" alt=\"\" width=\"700px\" align=\"center\"/>\n",
    "Fuente: \"Hands-on Machine Learning with Scikit-Learn, Keras & Tensorflow\", O'Reilly"
   ]
  },
  {
   "cell_type": "markdown",
   "id": "27566d2a",
   "metadata": {
    "slideshow": {
     "slide_type": "fragment"
    }
   },
   "source": [
    "## Ejemplo"
   ]
  },
  {
   "cell_type": "code",
   "execution_count": 11,
   "id": "0c4a4059",
   "metadata": {
    "slideshow": {
     "slide_type": "fragment"
    }
   },
   "outputs": [
    {
     "data": {
      "text/html": [
       "<div>\n",
       "<style scoped>\n",
       "    .dataframe tbody tr th:only-of-type {\n",
       "        vertical-align: middle;\n",
       "    }\n",
       "\n",
       "    .dataframe tbody tr th {\n",
       "        vertical-align: top;\n",
       "    }\n",
       "\n",
       "    .dataframe thead th {\n",
       "        text-align: right;\n",
       "    }\n",
       "</style>\n",
       "<table border=\"1\" class=\"dataframe\">\n",
       "  <thead>\n",
       "    <tr style=\"text-align: right;\">\n",
       "      <th></th>\n",
       "      <th>PassengerId</th>\n",
       "      <th>Survived</th>\n",
       "      <th>Pclass</th>\n",
       "      <th>Name</th>\n",
       "      <th>Sex</th>\n",
       "      <th>Age</th>\n",
       "      <th>SibSp</th>\n",
       "      <th>Parch</th>\n",
       "      <th>Ticket</th>\n",
       "      <th>Fare</th>\n",
       "      <th>Cabin</th>\n",
       "      <th>Embarked</th>\n",
       "    </tr>\n",
       "  </thead>\n",
       "  <tbody>\n",
       "    <tr>\n",
       "      <th>0</th>\n",
       "      <td>1</td>\n",
       "      <td>0</td>\n",
       "      <td>3</td>\n",
       "      <td>Braund, Mr. Owen Harris</td>\n",
       "      <td>male</td>\n",
       "      <td>22.0</td>\n",
       "      <td>1</td>\n",
       "      <td>0</td>\n",
       "      <td>A/5 21171</td>\n",
       "      <td>7.2500</td>\n",
       "      <td>NaN</td>\n",
       "      <td>S</td>\n",
       "    </tr>\n",
       "    <tr>\n",
       "      <th>1</th>\n",
       "      <td>2</td>\n",
       "      <td>1</td>\n",
       "      <td>1</td>\n",
       "      <td>Cumings, Mrs. John Bradley (Florence Briggs Th...</td>\n",
       "      <td>female</td>\n",
       "      <td>38.0</td>\n",
       "      <td>1</td>\n",
       "      <td>0</td>\n",
       "      <td>PC 17599</td>\n",
       "      <td>71.2833</td>\n",
       "      <td>C85</td>\n",
       "      <td>C</td>\n",
       "    </tr>\n",
       "    <tr>\n",
       "      <th>2</th>\n",
       "      <td>3</td>\n",
       "      <td>1</td>\n",
       "      <td>3</td>\n",
       "      <td>Heikkinen, Miss. Laina</td>\n",
       "      <td>female</td>\n",
       "      <td>26.0</td>\n",
       "      <td>0</td>\n",
       "      <td>0</td>\n",
       "      <td>STON/O2. 3101282</td>\n",
       "      <td>7.9250</td>\n",
       "      <td>NaN</td>\n",
       "      <td>S</td>\n",
       "    </tr>\n",
       "    <tr>\n",
       "      <th>3</th>\n",
       "      <td>4</td>\n",
       "      <td>1</td>\n",
       "      <td>1</td>\n",
       "      <td>Futrelle, Mrs. Jacques Heath (Lily May Peel)</td>\n",
       "      <td>female</td>\n",
       "      <td>35.0</td>\n",
       "      <td>1</td>\n",
       "      <td>0</td>\n",
       "      <td>113803</td>\n",
       "      <td>53.1000</td>\n",
       "      <td>C123</td>\n",
       "      <td>S</td>\n",
       "    </tr>\n",
       "    <tr>\n",
       "      <th>4</th>\n",
       "      <td>5</td>\n",
       "      <td>0</td>\n",
       "      <td>3</td>\n",
       "      <td>Allen, Mr. William Henry</td>\n",
       "      <td>male</td>\n",
       "      <td>35.0</td>\n",
       "      <td>0</td>\n",
       "      <td>0</td>\n",
       "      <td>373450</td>\n",
       "      <td>8.0500</td>\n",
       "      <td>NaN</td>\n",
       "      <td>S</td>\n",
       "    </tr>\n",
       "  </tbody>\n",
       "</table>\n",
       "</div>"
      ],
      "text/plain": [
       "   PassengerId  Survived  Pclass  \\\n",
       "0            1         0       3   \n",
       "1            2         1       1   \n",
       "2            3         1       3   \n",
       "3            4         1       1   \n",
       "4            5         0       3   \n",
       "\n",
       "                                                Name     Sex   Age  SibSp  \\\n",
       "0                            Braund, Mr. Owen Harris    male  22.0      1   \n",
       "1  Cumings, Mrs. John Bradley (Florence Briggs Th...  female  38.0      1   \n",
       "2                             Heikkinen, Miss. Laina  female  26.0      0   \n",
       "3       Futrelle, Mrs. Jacques Heath (Lily May Peel)  female  35.0      1   \n",
       "4                           Allen, Mr. William Henry    male  35.0      0   \n",
       "\n",
       "   Parch            Ticket     Fare Cabin Embarked  \n",
       "0      0         A/5 21171   7.2500   NaN        S  \n",
       "1      0          PC 17599  71.2833   C85        C  \n",
       "2      0  STON/O2. 3101282   7.9250   NaN        S  \n",
       "3      0            113803  53.1000  C123        S  \n",
       "4      0            373450   8.0500   NaN        S  "
      ]
     },
     "execution_count": 11,
     "metadata": {},
     "output_type": "execute_result"
    }
   ],
   "source": [
    "import matplotlib.pyplot as plt\n",
    "import seaborn as sns\n",
    "import pandas as pd\n",
    "import numpy as np\n",
    "# Primera vez que se importa la biblioteca de aprendizaje automático scikit-learn\n",
    "# No te preocupes si esto parece mucho código\n",
    "from sklearn import metrics\n",
    "from sklearn.linear_model import LogisticRegression\n",
    "from sklearn.model_selection import train_test_split\n",
    "from sklearn.preprocessing import StandardScaler\n",
    "\n",
    "# Ten en cuenta que es probable que el nombre del archivo sea diferente en tu computadora (especialmente más adelante en el curso)\n",
    "filename = 'data/titanic.csv'\n",
    "df = pd.read_csv(filename)\n",
    "df.head()"
   ]
  },
  {
   "cell_type": "code",
   "execution_count": 12,
   "id": "304ce698",
   "metadata": {
    "slideshow": {
     "slide_type": "fragment"
    }
   },
   "outputs": [
    {
     "name": "stdout",
     "output_type": "stream",
     "text": [
      "[1 1 1 0 1 0 0 0 0 0 0 1 1 0 0 1 0 1 1 0 0 1 1 0 0 1 1 0 1 0 0 0 0 1 0 0 1\n",
      " 0 0 1 0 0 0 1 0 1 0 0 0 0 0 1 0 1 1 1 1 0 0 0 0 0 1 0 1 1 1 0 1 1 0 0 1 1\n",
      " 1 1 1 0 0 0 0 0 0 1 1 0 0 0 1 0 1 0 1 0 1 0 1 1 0 0 1 1 1 0 1 1 1 0 1 0 0\n",
      " 0 0 0 0 0 0 0 1 1 0 1 0 0 0 1 1 0 0 1 1 0 1 0 1 0 1 1 0 0 1 0 1 1 0 0 0 1\n",
      " 1 0 1 0 0 0 0 0 0 0 0 0 0 0 0 1 0 1 0 0 1 0 1 1 1 0 0 0 1 1 0]\n",
      "[0, 0, 1, 0, 1, 0, 0, 0, 0, 0, 0, 1, 1, 0, 0, 1, 0, 1, 1, 0, 0, 1, 1, 0, 0, 1, 1, 0, 1, 0, 0, 0, 0, 1, 0, 0, 1, 1, 0, 1, 0, 1, 1, 0, 0, 1, 1, 0, 0, 0, 0, 1, 0, 1, 0, 0, 1, 0, 1, 0, 0, 0, 0, 0, 1, 0, 1, 0, 0, 1, 0, 1, 1, 1, 1, 1, 1, 0, 0, 0, 1, 1, 0, 1, 1, 0, 0, 0, 1, 0, 1, 0, 1, 0, 1, 0, 1, 0, 0, 0, 1, 1, 1, 0, 1, 1, 1, 0, 1, 0, 0, 0, 0, 0, 0, 0, 1, 0, 1, 1, 0, 1, 0, 0, 0, 1, 1, 0, 0, 1, 1, 1, 0, 1, 1, 0, 1, 1, 0, 0, 1, 0, 1, 1, 0, 0, 0, 0, 0, 0, 0, 1, 0, 1, 1, 0, 0, 1, 0, 0, 0, 0, 0, 0, 0, 1, 0, 0, 0, 1, 1, 0, 1, 1, 0, 0, 1, 1, 0]\n"
     ]
    }
   ],
   "source": [
    "\n",
    "# Transforma la columna Sexo en una forma que no sea de texto\n",
    "# Elijo cuatro funciones, podrías haber elegido otras\n",
    "feature_cols = ['Pclass', 'Parch', 'Age', 'Sex']\n",
    "# Convierta la columna Sexo en algo que pueda alimentar a un modelo\n",
    "# Tiene\n",
    "df['Sex'] = df.Sex.map({'male': 0, \n",
    "                                  'female': 1})\n",
    "# Eliminar filas donde la edad es nan del conjunto de datos\n",
    "df = df.loc[~df['Age'].isnull(), :]\n",
    "# Crear matriz de características y vector objetivo\n",
    "X = df.loc[:, feature_cols]\n",
    "y = df['Survived']\n",
    "# Divida los datos en conjuntos de prueba y entrenamiento\n",
    "X_train, X_test, y_train, y_test = train_test_split(X,\n",
    "                                                    y,\n",
    "                                                    random_state = 0)\n",
    "# Estandarizar datos\n",
    "scaler = StandardScaler()\n",
    "# Ajusta solo en el conjunto de entrenamiento\n",
    "scaler.fit(X_train)\n",
    "# Aplicar transformación tanto al conjunto de entrenamiento como al conjunto de prueba\n",
    "X_train = scaler.transform(X_train)\n",
    "X_test = scaler.transform(X_test)\n",
    "# Crea una instancia de un modelo\n",
    "logreg = LogisticRegression()\n",
    "# Entrena el modelo con los datos\n",
    "logreg.fit(X_train, y_train);\n",
    "# predicciones de clase (no probabilidades predichas)\n",
    "predictions = logreg.predict(X_test)\n",
    "print(predictions)\n",
    "print(y_test.tolist())"
   ]
  },
  {
   "cell_type": "code",
   "execution_count": 15,
   "id": "d2d2761c",
   "metadata": {
    "slideshow": {
     "slide_type": "fragment"
    }
   },
   "outputs": [
    {
     "name": "stdout",
     "output_type": "stream",
     "text": [
      "[87 16 17 59]\n",
      "[[87 16]\n",
      " [17 59]]\n",
      "87 16 17 59\n"
     ]
    }
   ],
   "source": [
    "# valores reales: y_test.values\n",
    "# predicciones: predicciones del modelo\n",
    "cm = metrics.confusion_matrix(y_test.values, predictions)\n",
    "print(metrics.confusion_matrix(y_test.values, predictions).ravel())\n",
    "tn, fp, fn, tp = metrics.confusion_matrix(y_test.values, predictions).ravel()\n",
    "print(cm)\n",
    "print(tn, fp, fn, tp)"
   ]
  },
  {
   "cell_type": "markdown",
   "id": "b0b3cde3",
   "metadata": {
    "slideshow": {
     "slide_type": "slide"
    }
   },
   "source": [
    "# Accuracy (exactitud)"
   ]
  },
  {
   "cell_type": "markdown",
   "id": "8ce9abb3",
   "metadata": {
    "slideshow": {
     "slide_type": "fragment"
    }
   },
   "source": [
    "- Fracción de casos correctamente clasificados sobre casos totales (¿Cuántas veces acerté?)\n",
    "\n",
    "$$ \\text{accuracy} = \\frac{TP + TN}{TP + TN + FP + FN} $$\n",
    "\n",
    "- En nuestra matriz de confusión anterior, sería\n",
    "\n",
    "$$\\text{accuracy} = \\frac{87 + 59}{87 + 16 + 17 + 59} = 0.8156 = 81.56\\%$$"
   ]
  },
  {
   "cell_type": "code",
   "execution_count": 17,
   "id": "0699245f",
   "metadata": {
    "slideshow": {
     "slide_type": "fragment"
    }
   },
   "outputs": [
    {
     "name": "stdout",
     "output_type": "stream",
     "text": [
      "Score obtenido por Regresor 0.8156424581005587\n",
      "Score obtenido manualmente 0.8156424581005587\n"
     ]
    }
   ],
   "source": [
    "score = logreg.score(X_test, y_test) # Esta línea, para este modelo, calcula el accuracy\n",
    "print(\"Score obtenido por Regresor\", score)\n",
    "manual_score = (tp + tn)/(tp + tn + fp + fn)\n",
    "print(\"Score obtenido manualmente\", manual_score)"
   ]
  },
  {
   "cell_type": "code",
   "execution_count": 20,
   "id": "b44863cb",
   "metadata": {},
   "outputs": [
    {
     "name": "stdout",
     "output_type": "stream",
     "text": [
      "[0. 0. 0. 0. 0. 0. 0. 0. 0. 0. 0. 0. 0. 0. 0. 0. 0. 0. 0. 0.]\n",
      "[0, 0, 0, 0, 0, 0, 1, 0, 0, 0, 1, 0, 0, 0, 0, 0, 0, 0, 0, 1]\n",
      "85.0\n"
     ]
    }
   ],
   "source": [
    "# Ej. Modelo de clasificación de 5s\n",
    "import numpy as np\n",
    "datos = [1,2,1,3,4,2,5,3,4,6,5,4,2,7,9,8,9,6,4,5]\n",
    "predicciones = np.zeros(20)\n",
    "valores_reales= [0,0,0,0,0,0,1,0,0,0,1,0,0,0,0,0,0,0,0,1]\n",
    "print(predicciones)\n",
    "print(valores_reales)\n",
    "# Nuestro modelo clasifica todo como NO 5\n",
    "tn=17 # 17 son los números que no eran 5, por lo tanto nuestro modelo los clasifico bien\n",
    "tp=0 # Como no clasificamos ningún 5, los TP son\n",
    "fn=3 # Los 5s que clasificamos incorrectamente, están acá\n",
    "fp=0 # No hicimos ninguna claisificación FP.\n",
    "\n",
    "accuracy = (tn+tp)/(tn+tp+fn+fp)\n",
    "print(accuracy*100)"
   ]
  },
  {
   "cell_type": "markdown",
   "id": "afe576dc",
   "metadata": {
    "slideshow": {
     "slide_type": "slide"
    }
   },
   "source": [
    "# Sensitivity/Recall/True Positive Rate (sensibilidad)"
   ]
  },
  {
   "cell_type": "markdown",
   "id": "8644a24c",
   "metadata": {
    "slideshow": {
     "slide_type": "fragment"
    }
   },
   "source": [
    "- Fracción de casos **pertenecientes** a una clase correctamente clasificados (¿Cuántas veces acerté al clasificar la clase X?)\n",
    "\n",
    "$$ \\text{sensitivity} = \\frac{TP}{TP + FN} $$"
   ]
  },
  {
   "cell_type": "markdown",
   "id": "e6bc68a7",
   "metadata": {
    "slideshow": {
     "slide_type": "slide"
    }
   },
   "source": [
    "# Specifity/Selectivity/True Negative Rate (especificidad)"
   ]
  },
  {
   "cell_type": "markdown",
   "id": "e95c044e",
   "metadata": {
    "slideshow": {
     "slide_type": "fragment"
    }
   },
   "source": [
    "- Fracción de casos **no pertenecientes** a una clase correctamente clasificados (¿Cuántas veces acerté al clasificar casos fuera de la clase X?)\n",
    "\n",
    "$$ \\text{specificity} = \\frac{TN}{TN + FP} $$"
   ]
  },
  {
   "cell_type": "markdown",
   "id": "aa9a9783",
   "metadata": {
    "slideshow": {
     "slide_type": "slide"
    }
   },
   "source": [
    "# Precision/Positive predictions (precisión)"
   ]
  },
  {
   "cell_type": "markdown",
   "id": "8434b159",
   "metadata": {
    "slideshow": {
     "slide_type": "fragment"
    }
   },
   "source": [
    "- Fracción de casos **clasificados** correctamente clasificados (¿Cuántos casos clasificados como X fueron acertados?)\n",
    "\n",
    "$$ \\text{precision} = \\frac{TP}{TP + FP} $$"
   ]
  },
  {
   "cell_type": "code",
   "execution_count": 19,
   "id": "1bcd99fb",
   "metadata": {
    "slideshow": {
     "slide_type": "slide"
    }
   },
   "outputs": [
    {
     "name": "stdout",
     "output_type": "stream",
     "text": [
      "Sensitivity: 0.776\n",
      "Specificity: 0.845\n",
      "Precision: 0.787\n"
     ]
    }
   ],
   "source": [
    "# Calcular sensibilidad, especificidad\n",
    "sensitivity = tp / (tp + fn)\n",
    "specificity = tn / (tn + fp)\n",
    "precision = tp / (tp + fp)\n",
    "print('Sensitivity: {:.3f}'.format(sensitivity))\n",
    "print('Specificity: {:.3f}'.format(specificity))\n",
    "print('Precision: {:.3f}'.format(precision))"
   ]
  },
  {
   "cell_type": "markdown",
   "id": "119e81c3",
   "metadata": {
    "slideshow": {
     "slide_type": "slide"
    }
   },
   "source": [
    "# Histogramas"
   ]
  },
  {
   "cell_type": "markdown",
   "id": "bbbe283f",
   "metadata": {
    "slideshow": {
     "slide_type": "fragment"
    }
   },
   "source": [
    "- Gráfico que permite mostrar visualmente cuántos elementos pertenecen a una cierta categoría.\n",
    "- Las categorías pueden ser **clases** o **rangos numéricos**"
   ]
  },
  {
   "cell_type": "code",
   "execution_count": 21,
   "id": "f8efa294",
   "metadata": {
    "slideshow": {
     "slide_type": "fragment"
    }
   },
   "outputs": [],
   "source": [
    "import matplotlib.pyplot as plt\n",
    "import seaborn as sns\n",
    "import pandas as pd\n",
    "import numpy as np"
   ]
  },
  {
   "cell_type": "code",
   "execution_count": 22,
   "id": "979ab652",
   "metadata": {
    "slideshow": {
     "slide_type": "fragment"
    }
   },
   "outputs": [
    {
     "data": {
      "text/html": [
       "<div>\n",
       "<style scoped>\n",
       "    .dataframe tbody tr th:only-of-type {\n",
       "        vertical-align: middle;\n",
       "    }\n",
       "\n",
       "    .dataframe tbody tr th {\n",
       "        vertical-align: top;\n",
       "    }\n",
       "\n",
       "    .dataframe thead th {\n",
       "        text-align: right;\n",
       "    }\n",
       "</style>\n",
       "<table border=\"1\" class=\"dataframe\">\n",
       "  <thead>\n",
       "    <tr style=\"text-align: right;\">\n",
       "      <th></th>\n",
       "      <th>id</th>\n",
       "      <th>date</th>\n",
       "      <th>price</th>\n",
       "      <th>bedrooms</th>\n",
       "      <th>bathrooms</th>\n",
       "      <th>sqft_living</th>\n",
       "      <th>sqft_lot</th>\n",
       "      <th>floors</th>\n",
       "      <th>waterfront</th>\n",
       "      <th>view</th>\n",
       "      <th>...</th>\n",
       "      <th>grade</th>\n",
       "      <th>sqft_above</th>\n",
       "      <th>sqft_basement</th>\n",
       "      <th>yr_built</th>\n",
       "      <th>yr_renovated</th>\n",
       "      <th>zipcode</th>\n",
       "      <th>lat</th>\n",
       "      <th>long</th>\n",
       "      <th>sqft_living15</th>\n",
       "      <th>sqft_lot15</th>\n",
       "    </tr>\n",
       "  </thead>\n",
       "  <tbody>\n",
       "    <tr>\n",
       "      <th>0</th>\n",
       "      <td>7129300520</td>\n",
       "      <td>20141013T000000</td>\n",
       "      <td>221900.0</td>\n",
       "      <td>3</td>\n",
       "      <td>1.00</td>\n",
       "      <td>1180</td>\n",
       "      <td>5650</td>\n",
       "      <td>1.0</td>\n",
       "      <td>0</td>\n",
       "      <td>0</td>\n",
       "      <td>...</td>\n",
       "      <td>7</td>\n",
       "      <td>1180</td>\n",
       "      <td>0</td>\n",
       "      <td>1955</td>\n",
       "      <td>0</td>\n",
       "      <td>98178</td>\n",
       "      <td>47.5112</td>\n",
       "      <td>-122.257</td>\n",
       "      <td>1340</td>\n",
       "      <td>5650</td>\n",
       "    </tr>\n",
       "    <tr>\n",
       "      <th>1</th>\n",
       "      <td>6414100192</td>\n",
       "      <td>20141209T000000</td>\n",
       "      <td>538000.0</td>\n",
       "      <td>3</td>\n",
       "      <td>2.25</td>\n",
       "      <td>2570</td>\n",
       "      <td>7242</td>\n",
       "      <td>2.0</td>\n",
       "      <td>0</td>\n",
       "      <td>0</td>\n",
       "      <td>...</td>\n",
       "      <td>7</td>\n",
       "      <td>2170</td>\n",
       "      <td>400</td>\n",
       "      <td>1951</td>\n",
       "      <td>1991</td>\n",
       "      <td>98125</td>\n",
       "      <td>47.7210</td>\n",
       "      <td>-122.319</td>\n",
       "      <td>1690</td>\n",
       "      <td>7639</td>\n",
       "    </tr>\n",
       "    <tr>\n",
       "      <th>2</th>\n",
       "      <td>5631500400</td>\n",
       "      <td>20150225T000000</td>\n",
       "      <td>180000.0</td>\n",
       "      <td>2</td>\n",
       "      <td>1.00</td>\n",
       "      <td>770</td>\n",
       "      <td>10000</td>\n",
       "      <td>1.0</td>\n",
       "      <td>0</td>\n",
       "      <td>0</td>\n",
       "      <td>...</td>\n",
       "      <td>6</td>\n",
       "      <td>770</td>\n",
       "      <td>0</td>\n",
       "      <td>1933</td>\n",
       "      <td>0</td>\n",
       "      <td>98028</td>\n",
       "      <td>47.7379</td>\n",
       "      <td>-122.233</td>\n",
       "      <td>2720</td>\n",
       "      <td>8062</td>\n",
       "    </tr>\n",
       "    <tr>\n",
       "      <th>3</th>\n",
       "      <td>2487200875</td>\n",
       "      <td>20141209T000000</td>\n",
       "      <td>604000.0</td>\n",
       "      <td>4</td>\n",
       "      <td>3.00</td>\n",
       "      <td>1960</td>\n",
       "      <td>5000</td>\n",
       "      <td>1.0</td>\n",
       "      <td>0</td>\n",
       "      <td>0</td>\n",
       "      <td>...</td>\n",
       "      <td>7</td>\n",
       "      <td>1050</td>\n",
       "      <td>910</td>\n",
       "      <td>1965</td>\n",
       "      <td>0</td>\n",
       "      <td>98136</td>\n",
       "      <td>47.5208</td>\n",
       "      <td>-122.393</td>\n",
       "      <td>1360</td>\n",
       "      <td>5000</td>\n",
       "    </tr>\n",
       "    <tr>\n",
       "      <th>4</th>\n",
       "      <td>1954400510</td>\n",
       "      <td>20150218T000000</td>\n",
       "      <td>510000.0</td>\n",
       "      <td>3</td>\n",
       "      <td>2.00</td>\n",
       "      <td>1680</td>\n",
       "      <td>8080</td>\n",
       "      <td>1.0</td>\n",
       "      <td>0</td>\n",
       "      <td>0</td>\n",
       "      <td>...</td>\n",
       "      <td>8</td>\n",
       "      <td>1680</td>\n",
       "      <td>0</td>\n",
       "      <td>1987</td>\n",
       "      <td>0</td>\n",
       "      <td>98074</td>\n",
       "      <td>47.6168</td>\n",
       "      <td>-122.045</td>\n",
       "      <td>1800</td>\n",
       "      <td>7503</td>\n",
       "    </tr>\n",
       "  </tbody>\n",
       "</table>\n",
       "<p>5 rows × 21 columns</p>\n",
       "</div>"
      ],
      "text/plain": [
       "           id             date     price  bedrooms  bathrooms  sqft_living  \\\n",
       "0  7129300520  20141013T000000  221900.0         3       1.00         1180   \n",
       "1  6414100192  20141209T000000  538000.0         3       2.25         2570   \n",
       "2  5631500400  20150225T000000  180000.0         2       1.00          770   \n",
       "3  2487200875  20141209T000000  604000.0         4       3.00         1960   \n",
       "4  1954400510  20150218T000000  510000.0         3       2.00         1680   \n",
       "\n",
       "   sqft_lot  floors  waterfront  view  ...  grade  sqft_above  sqft_basement  \\\n",
       "0      5650     1.0           0     0  ...      7        1180              0   \n",
       "1      7242     2.0           0     0  ...      7        2170            400   \n",
       "2     10000     1.0           0     0  ...      6         770              0   \n",
       "3      5000     1.0           0     0  ...      7        1050            910   \n",
       "4      8080     1.0           0     0  ...      8        1680              0   \n",
       "\n",
       "   yr_built  yr_renovated  zipcode      lat     long  sqft_living15  \\\n",
       "0      1955             0    98178  47.5112 -122.257           1340   \n",
       "1      1951          1991    98125  47.7210 -122.319           1690   \n",
       "2      1933             0    98028  47.7379 -122.233           2720   \n",
       "3      1965             0    98136  47.5208 -122.393           1360   \n",
       "4      1987             0    98074  47.6168 -122.045           1800   \n",
       "\n",
       "   sqft_lot15  \n",
       "0        5650  \n",
       "1        7639  \n",
       "2        8062  \n",
       "3        5000  \n",
       "4        7503  \n",
       "\n",
       "[5 rows x 21 columns]"
      ]
     },
     "execution_count": 22,
     "metadata": {},
     "output_type": "execute_result"
    }
   ],
   "source": [
    "filename = 'data/kingCountyHouseData.csv'\n",
    "df = pd.read_csv(filename)\n",
    "df.head()"
   ]
  },
  {
   "cell_type": "code",
   "execution_count": 24,
   "id": "411357a7",
   "metadata": {
    "slideshow": {
     "slide_type": "fragment"
    }
   },
   "outputs": [
    {
     "data": {
      "image/png": "[encoded data removed]",
      "text/plain": [
       "<Figure size 432x288 with 1 Axes>"
      ]
     },
     "metadata": {
      "needs_background": "light"
     },
     "output_type": "display_data"
    }
   ],
   "source": [
    "df['price'].hist()\n",
    "plt.show()"
   ]
  },
  {
   "cell_type": "code",
   "execution_count": 26,
   "id": "f8c8a6ca",
   "metadata": {
    "slideshow": {
     "slide_type": "subslide"
    }
   },
   "outputs": [
    {
     "data": {
      "image/png": "[encoded data removed]",
      "text/plain": [
       "<Figure size 432x288 with 1 Axes>"
      ]
     },
     "metadata": {
      "needs_background": "light"
     },
     "output_type": "display_data"
    }
   ],
   "source": [
    "price_filter = df.loc[:, 'price'] <= 3000000\n",
    "df.loc[price_filter, 'price'].hist(bins = 30,\n",
    "                                   edgecolor='black')\n",
    "plt.show()"
   ]
  },
  {
   "cell_type": "markdown",
   "id": "2492a124",
   "metadata": {
    "slideshow": {
     "slide_type": "slide"
    }
   },
   "source": [
    "# Box Plot (diagramas de caja)"
   ]
  },
  {
   "cell_type": "markdown",
   "id": "841b1968",
   "metadata": {
    "slideshow": {
     "slide_type": "fragment"
    }
   },
   "source": [
    "- Gráfico que permite resumir la distribución de los valores de una muestra\n",
    "<img src=\"images/boxplot.png\" alt=\"\" width=\"700px\" align=\"center\"/>"
   ]
  },
  {
   "cell_type": "markdown",
   "id": "1af00748",
   "metadata": {
    "slideshow": {
     "slide_type": "fragment"
    }
   },
   "source": [
    "Fuente: [Towards Data Science: Understanding boxplots](https://towardsdatascience.com/understanding-boxplots-5e2df7bcbd51)"
   ]
  },
  {
   "cell_type": "code",
   "execution_count": 28,
   "id": "094de1f3",
   "metadata": {
    "slideshow": {
     "slide_type": "fragment"
    }
   },
   "outputs": [
    {
     "data": {
      "text/html": [
       "<div>\n",
       "<style scoped>\n",
       "    .dataframe tbody tr th:only-of-type {\n",
       "        vertical-align: middle;\n",
       "    }\n",
       "\n",
       "    .dataframe tbody tr th {\n",
       "        vertical-align: top;\n",
       "    }\n",
       "\n",
       "    .dataframe thead th {\n",
       "        text-align: right;\n",
       "    }\n",
       "</style>\n",
       "<table border=\"1\" class=\"dataframe\">\n",
       "  <thead>\n",
       "    <tr style=\"text-align: right;\">\n",
       "      <th></th>\n",
       "      <th>id</th>\n",
       "      <th>diagnosis</th>\n",
       "      <th>radius_mean</th>\n",
       "      <th>texture_mean</th>\n",
       "      <th>perimeter_mean</th>\n",
       "      <th>area_mean</th>\n",
       "      <th>smoothness_mean</th>\n",
       "      <th>compactness_mean</th>\n",
       "      <th>concavity_mean</th>\n",
       "      <th>concave points_mean</th>\n",
       "      <th>...</th>\n",
       "      <th>texture_worst</th>\n",
       "      <th>perimeter_worst</th>\n",
       "      <th>area_worst</th>\n",
       "      <th>smoothness_worst</th>\n",
       "      <th>compactness_worst</th>\n",
       "      <th>concavity_worst</th>\n",
       "      <th>concave points_worst</th>\n",
       "      <th>symmetry_worst</th>\n",
       "      <th>fractal_dimension_worst</th>\n",
       "      <th>Unnamed: 32</th>\n",
       "    </tr>\n",
       "  </thead>\n",
       "  <tbody>\n",
       "    <tr>\n",
       "      <th>0</th>\n",
       "      <td>842302</td>\n",
       "      <td>M</td>\n",
       "      <td>17.99</td>\n",
       "      <td>10.38</td>\n",
       "      <td>122.80</td>\n",
       "      <td>1001.0</td>\n",
       "      <td>0.11840</td>\n",
       "      <td>0.27760</td>\n",
       "      <td>0.3001</td>\n",
       "      <td>0.14710</td>\n",
       "      <td>...</td>\n",
       "      <td>17.33</td>\n",
       "      <td>184.60</td>\n",
       "      <td>2019.0</td>\n",
       "      <td>0.1622</td>\n",
       "      <td>0.6656</td>\n",
       "      <td>0.7119</td>\n",
       "      <td>0.2654</td>\n",
       "      <td>0.4601</td>\n",
       "      <td>0.11890</td>\n",
       "      <td>NaN</td>\n",
       "    </tr>\n",
       "    <tr>\n",
       "      <th>1</th>\n",
       "      <td>842517</td>\n",
       "      <td>M</td>\n",
       "      <td>20.57</td>\n",
       "      <td>17.77</td>\n",
       "      <td>132.90</td>\n",
       "      <td>1326.0</td>\n",
       "      <td>0.08474</td>\n",
       "      <td>0.07864</td>\n",
       "      <td>0.0869</td>\n",
       "      <td>0.07017</td>\n",
       "      <td>...</td>\n",
       "      <td>23.41</td>\n",
       "      <td>158.80</td>\n",
       "      <td>1956.0</td>\n",
       "      <td>0.1238</td>\n",
       "      <td>0.1866</td>\n",
       "      <td>0.2416</td>\n",
       "      <td>0.1860</td>\n",
       "      <td>0.2750</td>\n",
       "      <td>0.08902</td>\n",
       "      <td>NaN</td>\n",
       "    </tr>\n",
       "    <tr>\n",
       "      <th>2</th>\n",
       "      <td>84300903</td>\n",
       "      <td>M</td>\n",
       "      <td>19.69</td>\n",
       "      <td>21.25</td>\n",
       "      <td>130.00</td>\n",
       "      <td>1203.0</td>\n",
       "      <td>0.10960</td>\n",
       "      <td>0.15990</td>\n",
       "      <td>0.1974</td>\n",
       "      <td>0.12790</td>\n",
       "      <td>...</td>\n",
       "      <td>25.53</td>\n",
       "      <td>152.50</td>\n",
       "      <td>1709.0</td>\n",
       "      <td>0.1444</td>\n",
       "      <td>0.4245</td>\n",
       "      <td>0.4504</td>\n",
       "      <td>0.2430</td>\n",
       "      <td>0.3613</td>\n",
       "      <td>0.08758</td>\n",
       "      <td>NaN</td>\n",
       "    </tr>\n",
       "    <tr>\n",
       "      <th>3</th>\n",
       "      <td>84348301</td>\n",
       "      <td>M</td>\n",
       "      <td>11.42</td>\n",
       "      <td>20.38</td>\n",
       "      <td>77.58</td>\n",
       "      <td>386.1</td>\n",
       "      <td>0.14250</td>\n",
       "      <td>0.28390</td>\n",
       "      <td>0.2414</td>\n",
       "      <td>0.10520</td>\n",
       "      <td>...</td>\n",
       "      <td>26.50</td>\n",
       "      <td>98.87</td>\n",
       "      <td>567.7</td>\n",
       "      <td>0.2098</td>\n",
       "      <td>0.8663</td>\n",
       "      <td>0.6869</td>\n",
       "      <td>0.2575</td>\n",
       "      <td>0.6638</td>\n",
       "      <td>0.17300</td>\n",
       "      <td>NaN</td>\n",
       "    </tr>\n",
       "    <tr>\n",
       "      <th>4</th>\n",
       "      <td>84358402</td>\n",
       "      <td>M</td>\n",
       "      <td>20.29</td>\n",
       "      <td>14.34</td>\n",
       "      <td>135.10</td>\n",
       "      <td>1297.0</td>\n",
       "      <td>0.10030</td>\n",
       "      <td>0.13280</td>\n",
       "      <td>0.1980</td>\n",
       "      <td>0.10430</td>\n",
       "      <td>...</td>\n",
       "      <td>16.67</td>\n",
       "      <td>152.20</td>\n",
       "      <td>1575.0</td>\n",
       "      <td>0.1374</td>\n",
       "      <td>0.2050</td>\n",
       "      <td>0.4000</td>\n",
       "      <td>0.1625</td>\n",
       "      <td>0.2364</td>\n",
       "      <td>0.07678</td>\n",
       "      <td>NaN</td>\n",
       "    </tr>\n",
       "  </tbody>\n",
       "</table>\n",
       "<p>5 rows × 33 columns</p>\n",
       "</div>"
      ],
      "text/plain": [
       "         id diagnosis  radius_mean  texture_mean  perimeter_mean  area_mean  \\\n",
       "0    842302         M        17.99         10.38          122.80     1001.0   \n",
       "1    842517         M        20.57         17.77          132.90     1326.0   \n",
       "2  84300903         M        19.69         21.25          130.00     1203.0   \n",
       "3  84348301         M        11.42         20.38           77.58      386.1   \n",
       "4  84358402         M        20.29         14.34          135.10     1297.0   \n",
       "\n",
       "   smoothness_mean  compactness_mean  concavity_mean  concave points_mean  \\\n",
       "0          0.11840           0.27760          0.3001              0.14710   \n",
       "1          0.08474           0.07864          0.0869              0.07017   \n",
       "2          0.10960           0.15990          0.1974              0.12790   \n",
       "3          0.14250           0.28390          0.2414              0.10520   \n",
       "4          0.10030           0.13280          0.1980              0.10430   \n",
       "\n",
       "   ...  texture_worst  perimeter_worst  area_worst  smoothness_worst  \\\n",
       "0  ...          17.33           184.60      2019.0            0.1622   \n",
       "1  ...          23.41           158.80      1956.0            0.1238   \n",
       "2  ...          25.53           152.50      1709.0            0.1444   \n",
       "3  ...          26.50            98.87       567.7            0.2098   \n",
       "4  ...          16.67           152.20      1575.0            0.1374   \n",
       "\n",
       "   compactness_worst  concavity_worst  concave points_worst  symmetry_worst  \\\n",
       "0             0.6656           0.7119                0.2654          0.4601   \n",
       "1             0.1866           0.2416                0.1860          0.2750   \n",
       "2             0.4245           0.4504                0.2430          0.3613   \n",
       "3             0.8663           0.6869                0.2575          0.6638   \n",
       "4             0.2050           0.4000                0.1625          0.2364   \n",
       "\n",
       "   fractal_dimension_worst  Unnamed: 32  \n",
       "0                  0.11890          NaN  \n",
       "1                  0.08902          NaN  \n",
       "2                  0.08758          NaN  \n",
       "3                  0.17300          NaN  \n",
       "4                  0.07678          NaN  \n",
       "\n",
       "[5 rows x 33 columns]"
      ]
     },
     "execution_count": 28,
     "metadata": {},
     "output_type": "execute_result"
    }
   ],
   "source": [
    "import matplotlib.pyplot as plt\n",
    "import seaborn as sns\n",
    "import pandas as pd\n",
    "import numpy as np\n",
    "\n",
    "filename = 'data/wisconsinBreastCancer.csv'\n",
    "df = pd.read_csv(filename)\n",
    "df.head()"
   ]
  },
  {
   "cell_type": "code",
   "execution_count": 29,
   "id": "51afed67",
   "metadata": {
    "slideshow": {
     "slide_type": "fragment"
    }
   },
   "outputs": [
    {
     "data": {
      "image/png": "[encoded data removed]",
      "text/plain": [
       "<Figure size 432x288 with 1 Axes>"
      ]
     },
     "metadata": {
      "needs_background": "light"
     },
     "output_type": "display_data"
    }
   ],
   "source": [
    "malignant = df.loc[df['diagnosis']=='M','area_mean'].values\n",
    "benign = df.loc[df['diagnosis']=='B','area_mean'].values\n",
    "plt.boxplot([malignant,benign], labels=['M', 'B']);"
   ]
  },
  {
   "cell_type": "markdown",
   "id": "73745f6b",
   "metadata": {
    "slideshow": {
     "slide_type": "fragment"
    }
   },
   "source": [
    "Material adicional: Excelente explicación de los distintos elementos de un boxplot [aquí](https://www.youtube.com/watch?v=O4wx-J5g4Nc)"
   ]
  },
  {
   "cell_type": "markdown",
   "id": "f10454cc",
   "metadata": {
    "slideshow": {
     "slide_type": "slide"
    }
   },
   "source": [
    "# Muestreo"
   ]
  },
  {
   "cell_type": "markdown",
   "id": "081826a4",
   "metadata": {
    "slideshow": {
     "slide_type": "fragment"
    }
   },
   "source": [
    "Selección de un subconjunto de instancias (muestra) a partir de un conjunto de datos"
   ]
  },
  {
   "cell_type": "markdown",
   "id": "aabbc631",
   "metadata": {
    "slideshow": {
     "slide_type": "fragment"
    }
   },
   "source": [
    "## Muestreo con reemplazo"
   ]
  },
  {
   "cell_type": "markdown",
   "id": "9c7940dc",
   "metadata": {
    "slideshow": {
     "slide_type": "fragment"
    }
   },
   "source": [
    "<img src=\"images/sampleWithReplacement.png\" alt=\"\" width=\"250px\" align=\"center\"/>"
   ]
  },
  {
   "cell_type": "markdown",
   "id": "e1114460",
   "metadata": {
    "slideshow": {
     "slide_type": "fragment"
    }
   },
   "source": [
    "## Muestreo sin reemplazo"
   ]
  },
  {
   "cell_type": "markdown",
   "id": "90c0665a",
   "metadata": {
    "slideshow": {
     "slide_type": "fragment"
    }
   },
   "source": [
    "<img src=\"images/sampleWithoutReplacement.png\" alt=\"\" width=\"250px\" align=\"center\"/>"
   ]
  },
  {
   "cell_type": "code",
   "execution_count": 30,
   "id": "ec36fd9c",
   "metadata": {
    "slideshow": {
     "slide_type": "fragment"
    }
   },
   "outputs": [
    {
     "data": {
      "text/html": [
       "<div>\n",
       "<style scoped>\n",
       "    .dataframe tbody tr th:only-of-type {\n",
       "        vertical-align: middle;\n",
       "    }\n",
       "\n",
       "    .dataframe tbody tr th {\n",
       "        vertical-align: top;\n",
       "    }\n",
       "\n",
       "    .dataframe thead th {\n",
       "        text-align: right;\n",
       "    }\n",
       "</style>\n",
       "<table border=\"1\" class=\"dataframe\">\n",
       "  <thead>\n",
       "    <tr style=\"text-align: right;\">\n",
       "      <th></th>\n",
       "      <th>CRIM</th>\n",
       "      <th>ZN</th>\n",
       "      <th>INDUS</th>\n",
       "      <th>CHAS</th>\n",
       "      <th>NOX</th>\n",
       "      <th>RM</th>\n",
       "      <th>AGE</th>\n",
       "      <th>DIS</th>\n",
       "      <th>RAD</th>\n",
       "      <th>TAX</th>\n",
       "      <th>PTRATIO</th>\n",
       "      <th>B</th>\n",
       "      <th>LSTAT</th>\n",
       "      <th>target</th>\n",
       "    </tr>\n",
       "  </thead>\n",
       "  <tbody>\n",
       "    <tr>\n",
       "      <th>0</th>\n",
       "      <td>0.00632</td>\n",
       "      <td>18.0</td>\n",
       "      <td>2.31</td>\n",
       "      <td>0.0</td>\n",
       "      <td>0.538</td>\n",
       "      <td>6.575</td>\n",
       "      <td>65.2</td>\n",
       "      <td>4.0900</td>\n",
       "      <td>1.0</td>\n",
       "      <td>296.0</td>\n",
       "      <td>15.3</td>\n",
       "      <td>396.90</td>\n",
       "      <td>4.98</td>\n",
       "      <td>24.0</td>\n",
       "    </tr>\n",
       "    <tr>\n",
       "      <th>1</th>\n",
       "      <td>0.02731</td>\n",
       "      <td>0.0</td>\n",
       "      <td>7.07</td>\n",
       "      <td>0.0</td>\n",
       "      <td>0.469</td>\n",
       "      <td>6.421</td>\n",
       "      <td>78.9</td>\n",
       "      <td>4.9671</td>\n",
       "      <td>2.0</td>\n",
       "      <td>242.0</td>\n",
       "      <td>17.8</td>\n",
       "      <td>396.90</td>\n",
       "      <td>9.14</td>\n",
       "      <td>21.6</td>\n",
       "    </tr>\n",
       "    <tr>\n",
       "      <th>2</th>\n",
       "      <td>0.02729</td>\n",
       "      <td>0.0</td>\n",
       "      <td>7.07</td>\n",
       "      <td>0.0</td>\n",
       "      <td>0.469</td>\n",
       "      <td>7.185</td>\n",
       "      <td>61.1</td>\n",
       "      <td>4.9671</td>\n",
       "      <td>2.0</td>\n",
       "      <td>242.0</td>\n",
       "      <td>17.8</td>\n",
       "      <td>392.83</td>\n",
       "      <td>4.03</td>\n",
       "      <td>34.7</td>\n",
       "    </tr>\n",
       "    <tr>\n",
       "      <th>3</th>\n",
       "      <td>0.03237</td>\n",
       "      <td>0.0</td>\n",
       "      <td>2.18</td>\n",
       "      <td>0.0</td>\n",
       "      <td>0.458</td>\n",
       "      <td>6.998</td>\n",
       "      <td>45.8</td>\n",
       "      <td>6.0622</td>\n",
       "      <td>3.0</td>\n",
       "      <td>222.0</td>\n",
       "      <td>18.7</td>\n",
       "      <td>394.63</td>\n",
       "      <td>2.94</td>\n",
       "      <td>33.4</td>\n",
       "    </tr>\n",
       "    <tr>\n",
       "      <th>4</th>\n",
       "      <td>0.06905</td>\n",
       "      <td>0.0</td>\n",
       "      <td>2.18</td>\n",
       "      <td>0.0</td>\n",
       "      <td>0.458</td>\n",
       "      <td>7.147</td>\n",
       "      <td>54.2</td>\n",
       "      <td>6.0622</td>\n",
       "      <td>3.0</td>\n",
       "      <td>222.0</td>\n",
       "      <td>18.7</td>\n",
       "      <td>396.90</td>\n",
       "      <td>5.33</td>\n",
       "      <td>36.2</td>\n",
       "    </tr>\n",
       "  </tbody>\n",
       "</table>\n",
       "</div>"
      ],
      "text/plain": [
       "      CRIM    ZN  INDUS  CHAS    NOX     RM   AGE     DIS  RAD    TAX  \\\n",
       "0  0.00632  18.0   2.31   0.0  0.538  6.575  65.2  4.0900  1.0  296.0   \n",
       "1  0.02731   0.0   7.07   0.0  0.469  6.421  78.9  4.9671  2.0  242.0   \n",
       "2  0.02729   0.0   7.07   0.0  0.469  7.185  61.1  4.9671  2.0  242.0   \n",
       "3  0.03237   0.0   2.18   0.0  0.458  6.998  45.8  6.0622  3.0  222.0   \n",
       "4  0.06905   0.0   2.18   0.0  0.458  7.147  54.2  6.0622  3.0  222.0   \n",
       "\n",
       "   PTRATIO       B  LSTAT  target  \n",
       "0     15.3  396.90   4.98    24.0  \n",
       "1     17.8  396.90   9.14    21.6  \n",
       "2     17.8  392.83   4.03    34.7  \n",
       "3     18.7  394.63   2.94    33.4  \n",
       "4     18.7  396.90   5.33    36.2  "
      ]
     },
     "execution_count": 30,
     "metadata": {},
     "output_type": "execute_result"
    }
   ],
   "source": [
    "# NumPy es bueno para ayudar a generar números aleatorios\n",
    "import numpy as np\n",
    "import pandas as pd\n",
    "from sklearn.datasets import load_boston\n",
    "\n",
    "data = load_boston()\n",
    "df = pd.DataFrame(data.data, columns=data.feature_names)\n",
    "df['target'] = data.target\n",
    "df.head()"
   ]
  },
  {
   "cell_type": "code",
   "execution_count": 63,
   "id": "392b919a",
   "metadata": {
    "slideshow": {
     "slide_type": "fragment"
    }
   },
   "outputs": [
    {
     "name": "stdout",
     "output_type": "stream",
     "text": [
      "[12  5  0  3 11  3  7  9  3  5  2  4  7  6  8] ,Num Samples: 15,numberUnique: 11\n",
      "[ 8 12 10  1  6  7  7 14  8  1  5  9 13  8  9] ,Num Samples: 15,numberUnique: 10\n",
      "[ 4  3  0  3  5 14  0  2  3  8  1  3 13  3  3] ,Num Samples: 15,numberUnique: 9\n",
      "[14  7  0  1  9  9  0 10  4  7  3 14 11  2  7] ,Num Samples: 15,numberUnique: 10\n",
      "[12  2  0  0  4  5  5  6  8  4  1  4  9 10 10] ,Num Samples: 15,numberUnique: 10\n",
      "[ 8  1  1  7  9  9  3  6  7 11 14  2 11  0 14] ,Num Samples: 15,numberUnique: 10\n",
      "[ 3  5 12  9 10  4 11  4  6  4  4  3 12  4  4] ,Num Samples: 15,numberUnique: 8\n",
      "[ 8 14  4  3 10  7 13  5  5  0  1  5  9  3  0] ,Num Samples: 15,numberUnique: 11\n",
      "[ 5 14  0  1  2  4  2  0 13  3  2 10 13  0  7] ,Num Samples: 15,numberUnique: 10\n",
      "[ 5  9  0 10  2 11 10  7 11  2  9  2 14  3 14] ,Num Samples: 15,numberUnique: 9\n",
      "[11  3  2 14  3  4  1  2 11 14  9 10  1  4 10] ,Num Samples: 15,numberUnique: 8\n",
      "[ 6 11  8 11  2  3  0  0  6  0  6  3 14 10  3] ,Num Samples: 15,numberUnique: 8\n",
      "[ 8 12  8 13 14  8 13  2  3 14  2 11 13  0  8] ,Num Samples: 15,numberUnique: 8\n",
      "[ 8  3  8 10  2  8  4  3 12 13 14  0  4  3 13] ,Num Samples: 15,numberUnique: 9\n"
     ]
    },
    {
     "data": {
      "text/html": [
       "<div>\n",
       "<style scoped>\n",
       "    .dataframe tbody tr th:only-of-type {\n",
       "        vertical-align: middle;\n",
       "    }\n",
       "\n",
       "    .dataframe tbody tr th {\n",
       "        vertical-align: top;\n",
       "    }\n",
       "\n",
       "    .dataframe thead th {\n",
       "        text-align: right;\n",
       "    }\n",
       "</style>\n",
       "<table border=\"1\" class=\"dataframe\">\n",
       "  <thead>\n",
       "    <tr style=\"text-align: right;\">\n",
       "      <th></th>\n",
       "      <th>CRIM</th>\n",
       "      <th>ZN</th>\n",
       "      <th>INDUS</th>\n",
       "      <th>CHAS</th>\n",
       "      <th>NOX</th>\n",
       "      <th>RM</th>\n",
       "      <th>AGE</th>\n",
       "      <th>DIS</th>\n",
       "      <th>RAD</th>\n",
       "      <th>TAX</th>\n",
       "      <th>PTRATIO</th>\n",
       "      <th>B</th>\n",
       "      <th>LSTAT</th>\n",
       "      <th>target</th>\n",
       "    </tr>\n",
       "  </thead>\n",
       "  <tbody>\n",
       "    <tr>\n",
       "      <th>8</th>\n",
       "      <td>0.21124</td>\n",
       "      <td>12.5</td>\n",
       "      <td>7.87</td>\n",
       "      <td>0.0</td>\n",
       "      <td>0.524</td>\n",
       "      <td>5.631</td>\n",
       "      <td>100.0</td>\n",
       "      <td>6.0821</td>\n",
       "      <td>5.0</td>\n",
       "      <td>311.0</td>\n",
       "      <td>15.2</td>\n",
       "      <td>386.63</td>\n",
       "      <td>29.93</td>\n",
       "      <td>16.5</td>\n",
       "    </tr>\n",
       "    <tr>\n",
       "      <th>3</th>\n",
       "      <td>0.03237</td>\n",
       "      <td>0.0</td>\n",
       "      <td>2.18</td>\n",
       "      <td>0.0</td>\n",
       "      <td>0.458</td>\n",
       "      <td>6.998</td>\n",
       "      <td>45.8</td>\n",
       "      <td>6.0622</td>\n",
       "      <td>3.0</td>\n",
       "      <td>222.0</td>\n",
       "      <td>18.7</td>\n",
       "      <td>394.63</td>\n",
       "      <td>2.94</td>\n",
       "      <td>33.4</td>\n",
       "    </tr>\n",
       "    <tr>\n",
       "      <th>8</th>\n",
       "      <td>0.21124</td>\n",
       "      <td>12.5</td>\n",
       "      <td>7.87</td>\n",
       "      <td>0.0</td>\n",
       "      <td>0.524</td>\n",
       "      <td>5.631</td>\n",
       "      <td>100.0</td>\n",
       "      <td>6.0821</td>\n",
       "      <td>5.0</td>\n",
       "      <td>311.0</td>\n",
       "      <td>15.2</td>\n",
       "      <td>386.63</td>\n",
       "      <td>29.93</td>\n",
       "      <td>16.5</td>\n",
       "    </tr>\n",
       "    <tr>\n",
       "      <th>10</th>\n",
       "      <td>0.22489</td>\n",
       "      <td>12.5</td>\n",
       "      <td>7.87</td>\n",
       "      <td>0.0</td>\n",
       "      <td>0.524</td>\n",
       "      <td>6.377</td>\n",
       "      <td>94.3</td>\n",
       "      <td>6.3467</td>\n",
       "      <td>5.0</td>\n",
       "      <td>311.0</td>\n",
       "      <td>15.2</td>\n",
       "      <td>392.52</td>\n",
       "      <td>20.45</td>\n",
       "      <td>15.0</td>\n",
       "    </tr>\n",
       "    <tr>\n",
       "      <th>2</th>\n",
       "      <td>0.02729</td>\n",
       "      <td>0.0</td>\n",
       "      <td>7.07</td>\n",
       "      <td>0.0</td>\n",
       "      <td>0.469</td>\n",
       "      <td>7.185</td>\n",
       "      <td>61.1</td>\n",
       "      <td>4.9671</td>\n",
       "      <td>2.0</td>\n",
       "      <td>242.0</td>\n",
       "      <td>17.8</td>\n",
       "      <td>392.83</td>\n",
       "      <td>4.03</td>\n",
       "      <td>34.7</td>\n",
       "    </tr>\n",
       "    <tr>\n",
       "      <th>8</th>\n",
       "      <td>0.21124</td>\n",
       "      <td>12.5</td>\n",
       "      <td>7.87</td>\n",
       "      <td>0.0</td>\n",
       "      <td>0.524</td>\n",
       "      <td>5.631</td>\n",
       "      <td>100.0</td>\n",
       "      <td>6.0821</td>\n",
       "      <td>5.0</td>\n",
       "      <td>311.0</td>\n",
       "      <td>15.2</td>\n",
       "      <td>386.63</td>\n",
       "      <td>29.93</td>\n",
       "      <td>16.5</td>\n",
       "    </tr>\n",
       "    <tr>\n",
       "      <th>4</th>\n",
       "      <td>0.06905</td>\n",
       "      <td>0.0</td>\n",
       "      <td>2.18</td>\n",
       "      <td>0.0</td>\n",
       "      <td>0.458</td>\n",
       "      <td>7.147</td>\n",
       "      <td>54.2</td>\n",
       "      <td>6.0622</td>\n",
       "      <td>3.0</td>\n",
       "      <td>222.0</td>\n",
       "      <td>18.7</td>\n",
       "      <td>396.90</td>\n",
       "      <td>5.33</td>\n",
       "      <td>36.2</td>\n",
       "    </tr>\n",
       "    <tr>\n",
       "      <th>3</th>\n",
       "      <td>0.03237</td>\n",
       "      <td>0.0</td>\n",
       "      <td>2.18</td>\n",
       "      <td>0.0</td>\n",
       "      <td>0.458</td>\n",
       "      <td>6.998</td>\n",
       "      <td>45.8</td>\n",
       "      <td>6.0622</td>\n",
       "      <td>3.0</td>\n",
       "      <td>222.0</td>\n",
       "      <td>18.7</td>\n",
       "      <td>394.63</td>\n",
       "      <td>2.94</td>\n",
       "      <td>33.4</td>\n",
       "    </tr>\n",
       "    <tr>\n",
       "      <th>12</th>\n",
       "      <td>0.09378</td>\n",
       "      <td>12.5</td>\n",
       "      <td>7.87</td>\n",
       "      <td>0.0</td>\n",
       "      <td>0.524</td>\n",
       "      <td>5.889</td>\n",
       "      <td>39.0</td>\n",
       "      <td>5.4509</td>\n",
       "      <td>5.0</td>\n",
       "      <td>311.0</td>\n",
       "      <td>15.2</td>\n",
       "      <td>390.50</td>\n",
       "      <td>15.71</td>\n",
       "      <td>21.7</td>\n",
       "    </tr>\n",
       "    <tr>\n",
       "      <th>13</th>\n",
       "      <td>0.62976</td>\n",
       "      <td>0.0</td>\n",
       "      <td>8.14</td>\n",
       "      <td>0.0</td>\n",
       "      <td>0.538</td>\n",
       "      <td>5.949</td>\n",
       "      <td>61.8</td>\n",
       "      <td>4.7075</td>\n",
       "      <td>4.0</td>\n",
       "      <td>307.0</td>\n",
       "      <td>21.0</td>\n",
       "      <td>396.90</td>\n",
       "      <td>8.26</td>\n",
       "      <td>20.4</td>\n",
       "    </tr>\n",
       "    <tr>\n",
       "      <th>14</th>\n",
       "      <td>0.63796</td>\n",
       "      <td>0.0</td>\n",
       "      <td>8.14</td>\n",
       "      <td>0.0</td>\n",
       "      <td>0.538</td>\n",
       "      <td>6.096</td>\n",
       "      <td>84.5</td>\n",
       "      <td>4.4619</td>\n",
       "      <td>4.0</td>\n",
       "      <td>307.0</td>\n",
       "      <td>21.0</td>\n",
       "      <td>380.02</td>\n",
       "      <td>10.26</td>\n",
       "      <td>18.2</td>\n",
       "    </tr>\n",
       "    <tr>\n",
       "      <th>0</th>\n",
       "      <td>0.00632</td>\n",
       "      <td>18.0</td>\n",
       "      <td>2.31</td>\n",
       "      <td>0.0</td>\n",
       "      <td>0.538</td>\n",
       "      <td>6.575</td>\n",
       "      <td>65.2</td>\n",
       "      <td>4.0900</td>\n",
       "      <td>1.0</td>\n",
       "      <td>296.0</td>\n",
       "      <td>15.3</td>\n",
       "      <td>396.90</td>\n",
       "      <td>4.98</td>\n",
       "      <td>24.0</td>\n",
       "    </tr>\n",
       "    <tr>\n",
       "      <th>4</th>\n",
       "      <td>0.06905</td>\n",
       "      <td>0.0</td>\n",
       "      <td>2.18</td>\n",
       "      <td>0.0</td>\n",
       "      <td>0.458</td>\n",
       "      <td>7.147</td>\n",
       "      <td>54.2</td>\n",
       "      <td>6.0622</td>\n",
       "      <td>3.0</td>\n",
       "      <td>222.0</td>\n",
       "      <td>18.7</td>\n",
       "      <td>396.90</td>\n",
       "      <td>5.33</td>\n",
       "      <td>36.2</td>\n",
       "    </tr>\n",
       "    <tr>\n",
       "      <th>3</th>\n",
       "      <td>0.03237</td>\n",
       "      <td>0.0</td>\n",
       "      <td>2.18</td>\n",
       "      <td>0.0</td>\n",
       "      <td>0.458</td>\n",
       "      <td>6.998</td>\n",
       "      <td>45.8</td>\n",
       "      <td>6.0622</td>\n",
       "      <td>3.0</td>\n",
       "      <td>222.0</td>\n",
       "      <td>18.7</td>\n",
       "      <td>394.63</td>\n",
       "      <td>2.94</td>\n",
       "      <td>33.4</td>\n",
       "    </tr>\n",
       "    <tr>\n",
       "      <th>13</th>\n",
       "      <td>0.62976</td>\n",
       "      <td>0.0</td>\n",
       "      <td>8.14</td>\n",
       "      <td>0.0</td>\n",
       "      <td>0.538</td>\n",
       "      <td>5.949</td>\n",
       "      <td>61.8</td>\n",
       "      <td>4.7075</td>\n",
       "      <td>4.0</td>\n",
       "      <td>307.0</td>\n",
       "      <td>21.0</td>\n",
       "      <td>396.90</td>\n",
       "      <td>8.26</td>\n",
       "      <td>20.4</td>\n",
       "    </tr>\n",
       "  </tbody>\n",
       "</table>\n",
       "</div>"
      ],
      "text/plain": [
       "       CRIM    ZN  INDUS  CHAS    NOX     RM    AGE     DIS  RAD    TAX  \\\n",
       "8   0.21124  12.5   7.87   0.0  0.524  5.631  100.0  6.0821  5.0  311.0   \n",
       "3   0.03237   0.0   2.18   0.0  0.458  6.998   45.8  6.0622  3.0  222.0   \n",
       "8   0.21124  12.5   7.87   0.0  0.524  5.631  100.0  6.0821  5.0  311.0   \n",
       "10  0.22489  12.5   7.87   0.0  0.524  6.377   94.3  6.3467  5.0  311.0   \n",
       "2   0.02729   0.0   7.07   0.0  0.469  7.185   61.1  4.9671  2.0  242.0   \n",
       "8   0.21124  12.5   7.87   0.0  0.524  5.631  100.0  6.0821  5.0  311.0   \n",
       "4   0.06905   0.0   2.18   0.0  0.458  7.147   54.2  6.0622  3.0  222.0   \n",
       "3   0.03237   0.0   2.18   0.0  0.458  6.998   45.8  6.0622  3.0  222.0   \n",
       "12  0.09378  12.5   7.87   0.0  0.524  5.889   39.0  5.4509  5.0  311.0   \n",
       "13  0.62976   0.0   8.14   0.0  0.538  5.949   61.8  4.7075  4.0  307.0   \n",
       "14  0.63796   0.0   8.14   0.0  0.538  6.096   84.5  4.4619  4.0  307.0   \n",
       "0   0.00632  18.0   2.31   0.0  0.538  6.575   65.2  4.0900  1.0  296.0   \n",
       "4   0.06905   0.0   2.18   0.0  0.458  7.147   54.2  6.0622  3.0  222.0   \n",
       "3   0.03237   0.0   2.18   0.0  0.458  6.998   45.8  6.0622  3.0  222.0   \n",
       "13  0.62976   0.0   8.14   0.0  0.538  5.949   61.8  4.7075  4.0  307.0   \n",
       "\n",
       "    PTRATIO       B  LSTAT  target  \n",
       "8      15.2  386.63  29.93    16.5  \n",
       "3      18.7  394.63   2.94    33.4  \n",
       "8      15.2  386.63  29.93    16.5  \n",
       "10     15.2  392.52  20.45    15.0  \n",
       "2      17.8  392.83   4.03    34.7  \n",
       "8      15.2  386.63  29.93    16.5  \n",
       "4      18.7  396.90   5.33    36.2  \n",
       "3      18.7  394.63   2.94    33.4  \n",
       "12     15.2  390.50  15.71    21.7  \n",
       "13     21.0  396.90   8.26    20.4  \n",
       "14     21.0  380.02  10.26    18.2  \n",
       "0      15.3  396.90   4.98    24.0  \n",
       "4      18.7  396.90   5.33    36.2  \n",
       "3      18.7  394.63   2.94    33.4  \n",
       "13     21.0  396.90   8.26    20.4  "
      ]
     },
     "execution_count": 63,
     "metadata": {},
     "output_type": "execute_result"
    }
   ],
   "source": [
    "# Muestreo con reemplazo\n",
    "np.random.seed(0)\n",
    "for _ in range(1, 15):\n",
    "    samples = np.random.choice(a=15, size=15, replace=True)\n",
    "    print(samples, ',Num Samples: ' + str(len(samples)) + ',numberUnique: ' + str(len(set(samples))) )\n",
    "bootstrappedDF = df.loc[samples, :]\n",
    "bootstrappedDF"
   ]
  },
  {
   "cell_type": "code",
   "execution_count": 64,
   "id": "3bf0bace",
   "metadata": {},
   "outputs": [
    {
     "name": "stdout",
     "output_type": "stream",
     "text": [
      "[ 1  6  8  9 14  4  2 13 10  7 11  3  0  5 12] ,Num Samples: 15,numberUnique: 15\n",
      "[ 2  4  3 13 11  0 10  9  5 14  8 12  7  6  1] ,Num Samples: 15,numberUnique: 15\n",
      "[ 4 12  7  9 13  6 10 14 11  1  8  3  2  0  5] ,Num Samples: 15,numberUnique: 15\n",
      "[13  6  1  8  5 14  9 12 11  2  3  7  4 10  0] ,Num Samples: 15,numberUnique: 15\n",
      "[ 0 10  2  3  5 14  7 11 13  9 12  1  4  8  6] ,Num Samples: 15,numberUnique: 15\n",
      "[ 1 13 12  7  9  6  8 10  4  5  3  0 14  2 11] ,Num Samples: 15,numberUnique: 15\n",
      "[ 2 12  6 11  9  1  0 13  5  7 10  3 14  8  4] ,Num Samples: 15,numberUnique: 15\n",
      "[10  6  8 12  7  9  3 14 13 11  4  2  1  0  5] ,Num Samples: 15,numberUnique: 15\n",
      "[13 12  6  4 14  3  8  1 11  7  2 10  0  9  5] ,Num Samples: 15,numberUnique: 15\n",
      "[ 8 10  7  5  0 14  6 11 13 12  9  2  1  4  3] ,Num Samples: 15,numberUnique: 15\n",
      "[10  8  2  1  5  7  4 11  9  3 12 13  6 14  0] ,Num Samples: 15,numberUnique: 15\n",
      "[ 4  1  9  6  5 13 12  7  3 10  8  0 11  2 14] ,Num Samples: 15,numberUnique: 15\n",
      "[ 2 11 10  9  1  5  7 14  8  6  3  4  0 13 12] ,Num Samples: 15,numberUnique: 15\n",
      "[ 2 14 13 10  9 11  7 12  4  0  8  1  3  5  6] ,Num Samples: 15,numberUnique: 15\n"
     ]
    },
    {
     "data": {
      "text/html": [
       "<div>\n",
       "<style scoped>\n",
       "    .dataframe tbody tr th:only-of-type {\n",
       "        vertical-align: middle;\n",
       "    }\n",
       "\n",
       "    .dataframe tbody tr th {\n",
       "        vertical-align: top;\n",
       "    }\n",
       "\n",
       "    .dataframe thead th {\n",
       "        text-align: right;\n",
       "    }\n",
       "</style>\n",
       "<table border=\"1\" class=\"dataframe\">\n",
       "  <thead>\n",
       "    <tr style=\"text-align: right;\">\n",
       "      <th></th>\n",
       "      <th>CRIM</th>\n",
       "      <th>ZN</th>\n",
       "      <th>INDUS</th>\n",
       "      <th>CHAS</th>\n",
       "      <th>NOX</th>\n",
       "      <th>RM</th>\n",
       "      <th>AGE</th>\n",
       "      <th>DIS</th>\n",
       "      <th>RAD</th>\n",
       "      <th>TAX</th>\n",
       "      <th>PTRATIO</th>\n",
       "      <th>B</th>\n",
       "      <th>LSTAT</th>\n",
       "      <th>target</th>\n",
       "    </tr>\n",
       "  </thead>\n",
       "  <tbody>\n",
       "    <tr>\n",
       "      <th>2</th>\n",
       "      <td>0.02729</td>\n",
       "      <td>0.0</td>\n",
       "      <td>7.07</td>\n",
       "      <td>0.0</td>\n",
       "      <td>0.469</td>\n",
       "      <td>7.185</td>\n",
       "      <td>61.1</td>\n",
       "      <td>4.9671</td>\n",
       "      <td>2.0</td>\n",
       "      <td>242.0</td>\n",
       "      <td>17.8</td>\n",
       "      <td>392.83</td>\n",
       "      <td>4.03</td>\n",
       "      <td>34.7</td>\n",
       "    </tr>\n",
       "    <tr>\n",
       "      <th>14</th>\n",
       "      <td>0.63796</td>\n",
       "      <td>0.0</td>\n",
       "      <td>8.14</td>\n",
       "      <td>0.0</td>\n",
       "      <td>0.538</td>\n",
       "      <td>6.096</td>\n",
       "      <td>84.5</td>\n",
       "      <td>4.4619</td>\n",
       "      <td>4.0</td>\n",
       "      <td>307.0</td>\n",
       "      <td>21.0</td>\n",
       "      <td>380.02</td>\n",
       "      <td>10.26</td>\n",
       "      <td>18.2</td>\n",
       "    </tr>\n",
       "    <tr>\n",
       "      <th>13</th>\n",
       "      <td>0.62976</td>\n",
       "      <td>0.0</td>\n",
       "      <td>8.14</td>\n",
       "      <td>0.0</td>\n",
       "      <td>0.538</td>\n",
       "      <td>5.949</td>\n",
       "      <td>61.8</td>\n",
       "      <td>4.7075</td>\n",
       "      <td>4.0</td>\n",
       "      <td>307.0</td>\n",
       "      <td>21.0</td>\n",
       "      <td>396.90</td>\n",
       "      <td>8.26</td>\n",
       "      <td>20.4</td>\n",
       "    </tr>\n",
       "    <tr>\n",
       "      <th>10</th>\n",
       "      <td>0.22489</td>\n",
       "      <td>12.5</td>\n",
       "      <td>7.87</td>\n",
       "      <td>0.0</td>\n",
       "      <td>0.524</td>\n",
       "      <td>6.377</td>\n",
       "      <td>94.3</td>\n",
       "      <td>6.3467</td>\n",
       "      <td>5.0</td>\n",
       "      <td>311.0</td>\n",
       "      <td>15.2</td>\n",
       "      <td>392.52</td>\n",
       "      <td>20.45</td>\n",
       "      <td>15.0</td>\n",
       "    </tr>\n",
       "    <tr>\n",
       "      <th>9</th>\n",
       "      <td>0.17004</td>\n",
       "      <td>12.5</td>\n",
       "      <td>7.87</td>\n",
       "      <td>0.0</td>\n",
       "      <td>0.524</td>\n",
       "      <td>6.004</td>\n",
       "      <td>85.9</td>\n",
       "      <td>6.5921</td>\n",
       "      <td>5.0</td>\n",
       "      <td>311.0</td>\n",
       "      <td>15.2</td>\n",
       "      <td>386.71</td>\n",
       "      <td>17.10</td>\n",
       "      <td>18.9</td>\n",
       "    </tr>\n",
       "    <tr>\n",
       "      <th>11</th>\n",
       "      <td>0.11747</td>\n",
       "      <td>12.5</td>\n",
       "      <td>7.87</td>\n",
       "      <td>0.0</td>\n",
       "      <td>0.524</td>\n",
       "      <td>6.009</td>\n",
       "      <td>82.9</td>\n",
       "      <td>6.2267</td>\n",
       "      <td>5.0</td>\n",
       "      <td>311.0</td>\n",
       "      <td>15.2</td>\n",
       "      <td>396.90</td>\n",
       "      <td>13.27</td>\n",
       "      <td>18.9</td>\n",
       "    </tr>\n",
       "    <tr>\n",
       "      <th>7</th>\n",
       "      <td>0.14455</td>\n",
       "      <td>12.5</td>\n",
       "      <td>7.87</td>\n",
       "      <td>0.0</td>\n",
       "      <td>0.524</td>\n",
       "      <td>6.172</td>\n",
       "      <td>96.1</td>\n",
       "      <td>5.9505</td>\n",
       "      <td>5.0</td>\n",
       "      <td>311.0</td>\n",
       "      <td>15.2</td>\n",
       "      <td>396.90</td>\n",
       "      <td>19.15</td>\n",
       "      <td>27.1</td>\n",
       "    </tr>\n",
       "    <tr>\n",
       "      <th>12</th>\n",
       "      <td>0.09378</td>\n",
       "      <td>12.5</td>\n",
       "      <td>7.87</td>\n",
       "      <td>0.0</td>\n",
       "      <td>0.524</td>\n",
       "      <td>5.889</td>\n",
       "      <td>39.0</td>\n",
       "      <td>5.4509</td>\n",
       "      <td>5.0</td>\n",
       "      <td>311.0</td>\n",
       "      <td>15.2</td>\n",
       "      <td>390.50</td>\n",
       "      <td>15.71</td>\n",
       "      <td>21.7</td>\n",
       "    </tr>\n",
       "    <tr>\n",
       "      <th>4</th>\n",
       "      <td>0.06905</td>\n",
       "      <td>0.0</td>\n",
       "      <td>2.18</td>\n",
       "      <td>0.0</td>\n",
       "      <td>0.458</td>\n",
       "      <td>7.147</td>\n",
       "      <td>54.2</td>\n",
       "      <td>6.0622</td>\n",
       "      <td>3.0</td>\n",
       "      <td>222.0</td>\n",
       "      <td>18.7</td>\n",
       "      <td>396.90</td>\n",
       "      <td>5.33</td>\n",
       "      <td>36.2</td>\n",
       "    </tr>\n",
       "    <tr>\n",
       "      <th>0</th>\n",
       "      <td>0.00632</td>\n",
       "      <td>18.0</td>\n",
       "      <td>2.31</td>\n",
       "      <td>0.0</td>\n",
       "      <td>0.538</td>\n",
       "      <td>6.575</td>\n",
       "      <td>65.2</td>\n",
       "      <td>4.0900</td>\n",
       "      <td>1.0</td>\n",
       "      <td>296.0</td>\n",
       "      <td>15.3</td>\n",
       "      <td>396.90</td>\n",
       "      <td>4.98</td>\n",
       "      <td>24.0</td>\n",
       "    </tr>\n",
       "    <tr>\n",
       "      <th>8</th>\n",
       "      <td>0.21124</td>\n",
       "      <td>12.5</td>\n",
       "      <td>7.87</td>\n",
       "      <td>0.0</td>\n",
       "      <td>0.524</td>\n",
       "      <td>5.631</td>\n",
       "      <td>100.0</td>\n",
       "      <td>6.0821</td>\n",
       "      <td>5.0</td>\n",
       "      <td>311.0</td>\n",
       "      <td>15.2</td>\n",
       "      <td>386.63</td>\n",
       "      <td>29.93</td>\n",
       "      <td>16.5</td>\n",
       "    </tr>\n",
       "    <tr>\n",
       "      <th>1</th>\n",
       "      <td>0.02731</td>\n",
       "      <td>0.0</td>\n",
       "      <td>7.07</td>\n",
       "      <td>0.0</td>\n",
       "      <td>0.469</td>\n",
       "      <td>6.421</td>\n",
       "      <td>78.9</td>\n",
       "      <td>4.9671</td>\n",
       "      <td>2.0</td>\n",
       "      <td>242.0</td>\n",
       "      <td>17.8</td>\n",
       "      <td>396.90</td>\n",
       "      <td>9.14</td>\n",
       "      <td>21.6</td>\n",
       "    </tr>\n",
       "    <tr>\n",
       "      <th>3</th>\n",
       "      <td>0.03237</td>\n",
       "      <td>0.0</td>\n",
       "      <td>2.18</td>\n",
       "      <td>0.0</td>\n",
       "      <td>0.458</td>\n",
       "      <td>6.998</td>\n",
       "      <td>45.8</td>\n",
       "      <td>6.0622</td>\n",
       "      <td>3.0</td>\n",
       "      <td>222.0</td>\n",
       "      <td>18.7</td>\n",
       "      <td>394.63</td>\n",
       "      <td>2.94</td>\n",
       "      <td>33.4</td>\n",
       "    </tr>\n",
       "    <tr>\n",
       "      <th>5</th>\n",
       "      <td>0.02985</td>\n",
       "      <td>0.0</td>\n",
       "      <td>2.18</td>\n",
       "      <td>0.0</td>\n",
       "      <td>0.458</td>\n",
       "      <td>6.430</td>\n",
       "      <td>58.7</td>\n",
       "      <td>6.0622</td>\n",
       "      <td>3.0</td>\n",
       "      <td>222.0</td>\n",
       "      <td>18.7</td>\n",
       "      <td>394.12</td>\n",
       "      <td>5.21</td>\n",
       "      <td>28.7</td>\n",
       "    </tr>\n",
       "    <tr>\n",
       "      <th>6</th>\n",
       "      <td>0.08829</td>\n",
       "      <td>12.5</td>\n",
       "      <td>7.87</td>\n",
       "      <td>0.0</td>\n",
       "      <td>0.524</td>\n",
       "      <td>6.012</td>\n",
       "      <td>66.6</td>\n",
       "      <td>5.5605</td>\n",
       "      <td>5.0</td>\n",
       "      <td>311.0</td>\n",
       "      <td>15.2</td>\n",
       "      <td>395.60</td>\n",
       "      <td>12.43</td>\n",
       "      <td>22.9</td>\n",
       "    </tr>\n",
       "  </tbody>\n",
       "</table>\n",
       "</div>"
      ],
      "text/plain": [
       "       CRIM    ZN  INDUS  CHAS    NOX     RM    AGE     DIS  RAD    TAX  \\\n",
       "2   0.02729   0.0   7.07   0.0  0.469  7.185   61.1  4.9671  2.0  242.0   \n",
       "14  0.63796   0.0   8.14   0.0  0.538  6.096   84.5  4.4619  4.0  307.0   \n",
       "13  0.62976   0.0   8.14   0.0  0.538  5.949   61.8  4.7075  4.0  307.0   \n",
       "10  0.22489  12.5   7.87   0.0  0.524  6.377   94.3  6.3467  5.0  311.0   \n",
       "9   0.17004  12.5   7.87   0.0  0.524  6.004   85.9  6.5921  5.0  311.0   \n",
       "11  0.11747  12.5   7.87   0.0  0.524  6.009   82.9  6.2267  5.0  311.0   \n",
       "7   0.14455  12.5   7.87   0.0  0.524  6.172   96.1  5.9505  5.0  311.0   \n",
       "12  0.09378  12.5   7.87   0.0  0.524  5.889   39.0  5.4509  5.0  311.0   \n",
       "4   0.06905   0.0   2.18   0.0  0.458  7.147   54.2  6.0622  3.0  222.0   \n",
       "0   0.00632  18.0   2.31   0.0  0.538  6.575   65.2  4.0900  1.0  296.0   \n",
       "8   0.21124  12.5   7.87   0.0  0.524  5.631  100.0  6.0821  5.0  311.0   \n",
       "1   0.02731   0.0   7.07   0.0  0.469  6.421   78.9  4.9671  2.0  242.0   \n",
       "3   0.03237   0.0   2.18   0.0  0.458  6.998   45.8  6.0622  3.0  222.0   \n",
       "5   0.02985   0.0   2.18   0.0  0.458  6.430   58.7  6.0622  3.0  222.0   \n",
       "6   0.08829  12.5   7.87   0.0  0.524  6.012   66.6  5.5605  5.0  311.0   \n",
       "\n",
       "    PTRATIO       B  LSTAT  target  \n",
       "2      17.8  392.83   4.03    34.7  \n",
       "14     21.0  380.02  10.26    18.2  \n",
       "13     21.0  396.90   8.26    20.4  \n",
       "10     15.2  392.52  20.45    15.0  \n",
       "9      15.2  386.71  17.10    18.9  \n",
       "11     15.2  396.90  13.27    18.9  \n",
       "7      15.2  396.90  19.15    27.1  \n",
       "12     15.2  390.50  15.71    21.7  \n",
       "4      18.7  396.90   5.33    36.2  \n",
       "0      15.3  396.90   4.98    24.0  \n",
       "8      15.2  386.63  29.93    16.5  \n",
       "1      17.8  396.90   9.14    21.6  \n",
       "3      18.7  394.63   2.94    33.4  \n",
       "5      18.7  394.12   5.21    28.7  \n",
       "6      15.2  395.60  12.43    22.9  "
      ]
     },
     "execution_count": 64,
     "metadata": {},
     "output_type": "execute_result"
    }
   ],
   "source": [
    "# Muestreo con reemplazo\n",
    "np.random.seed(0)\n",
    "for _ in range(1, 15):\n",
    "    samples = np.random.choice(a=15, size=15, replace=False)\n",
    "    print(samples, ',Num Samples: ' + str(len(samples)) + ',numberUnique: ' + str(len(set(samples))) )\n",
    "bootstrappedDF = df.loc[samples, :]\n",
    "bootstrappedDF"
   ]
  },
  {
   "cell_type": "markdown",
   "id": "125a4c10",
   "metadata": {
    "slideshow": {
     "slide_type": "slide"
    }
   },
   "source": [
    "# ¿Qué es Matplotlib?\n"
   ]
  },
  {
   "cell_type": "markdown",
   "id": "85d9d7da",
   "metadata": {
    "slideshow": {
     "slide_type": "fragment"
    }
   },
   "source": [
    "- **Matplotlib** es una biblioteca para la creación de visualizaciones tanto estáticas, animadas e interactivas en Python. Permite: \n",
    "    - Creción de gráficos de alta calidad.\n",
    "    - Figuras interactivas a las que hacer zoom, efectos panorámicos y actualizaciones.\n",
    "    - Personalizar estilos y diseños\n",
    "    - Exportación a una amplia gama de formatos de archivos.\n",
    "    - Compatible con JupyterLab/Jupyter Notebook e interfaces de usuario.\n",
    "    - Contiene una amplia cantidad de paquetes de terceros desarrollados en Matplotlib\n",
    "- La biblioteca Pandas contiene wrappers (envoltorios) en sus series y dataframes para la generación de gráficos.\n",
    "-  Si está trabajando en su entorno local, previo a su importación debe ser **instalada** \n",
    "    - ```pip install matplotlib``` si usa ```pip```\n",
    "    - ```conda install matplotlib``` si usa ```conda```"
   ]
  },
  {
   "cell_type": "markdown",
   "id": "052dc51a",
   "metadata": {
    "slideshow": {
     "slide_type": "slide"
    }
   },
   "source": [
    "# ¿Qué es Matplotlib?"
   ]
  },
  {
   "cell_type": "markdown",
   "id": "f6c8073a",
   "metadata": {
    "slideshow": {
     "slide_type": "fragment"
    }
   },
   "source": [
    "<table>\n",
    "    <td><img src=\"images/10-matplotlib00.png\" alt=\"\" width=\"100%\" align=\"center\"/></td>\n",
    "    <td><img src=\"images/10-matplotlib00b.png\" alt=\"\" width=\"100%\" align=\"center\"/></td>\n",
    "</table>"
   ]
  },
  {
   "cell_type": "markdown",
   "id": "908cbcfb",
   "metadata": {
    "slideshow": {
     "slide_type": "slide"
    }
   },
   "source": [
    "## Pyplot\n",
    "\n",
    "* ```matplotlib.pyplot``` es un conjunto de funciones de graficado similares al funcionamiento de MATLAB.\n",
    "* Cada función de ```pyplot``` realiza algún cambio a una figura (e.g.: crea figura, crea area, dibuja líneas, agrega etiquetas, etc.).\n",
    "* Requiere importar ```pyplot```, que está dentro la biblioteca ```matplotlib```.\n",
    "* La función fundamental es ```pyplot```."
   ]
  },
  {
   "cell_type": "markdown",
   "id": "ab77cb4f",
   "metadata": {
    "slideshow": {
     "slide_type": "slide"
    }
   },
   "source": [
    "### Ejemplo 1:  ```.pyplot``` con sólo un parámetro."
   ]
  },
  {
   "cell_type": "code",
   "execution_count": null,
   "id": "f78e16d9",
   "metadata": {
    "slideshow": {
     "slide_type": "fragment"
    }
   },
   "outputs": [],
   "source": [
    "from matplotlib import pyplot as plt #import matplotlib.pyplot as plt\n",
    "#plt.style.use('seaborn')\n",
    "plt.plot([1,3,6,2])\n",
    "plt.ylabel(\"Algunos numeritos en el eje y\")\n",
    "plt.xlabel(\"Algunos numeritos en el eje x\")\n",
    "plt.show()"
   ]
  },
  {
   "cell_type": "markdown",
   "id": "646d17ff",
   "metadata": {
    "slideshow": {
     "slide_type": "fragment"
    }
   },
   "source": [
    "* ```plot``` puede tener varios parámetros. Cuando se especifica **sólo uno** refiere a los valores en el eje $y$.\n",
    "* Automáticamente se genera una secuencia de valores enteros para el eje $x$. Partiendo desde 0 y aumentando de uno en uno. \n",
    "* La lista generada para el eje $x$ es del mismo largo que la señalada para el eje $y$.\n",
    "* En este caso, ```x=[0,1,2,3]```\n",
    "* La función ```plt.show()``` se encarga de generar la ventana de visualización del gráfico."
   ]
  },
  {
   "cell_type": "markdown",
   "id": "8fc111fd",
   "metadata": {
    "slideshow": {
     "slide_type": "slide"
    }
   },
   "source": [
    "### Ejemplo 2: ```.pyplot``` con varios parámetro."
   ]
  },
  {
   "cell_type": "code",
   "execution_count": null,
   "id": "42118acc",
   "metadata": {
    "slideshow": {
     "slide_type": "fragment"
    }
   },
   "outputs": [],
   "source": [
    "import matplotlib.pyplot as plt #from matplotlib import pyplot as plt\n",
    "plt.figure(dpi=100) #resolución de figura (implica tamaño)\n",
    "plt.plot([1,3,4,6,8],[1,16,9,5,3],\"ro-\")\n",
    "plt.axis([0,10,0,17]) #[min ejex, max ejex, min ejey, max ejey]\n",
    "plt.ylabel(\"Algunos numeritos en el eje y\")\n",
    "plt.xlabel(\"Algunos numeritos en el eje x\")\n",
    "plt.show()"
   ]
  },
  {
   "cell_type": "markdown",
   "id": "0bda9c6d",
   "metadata": {
    "slideshow": {
     "slide_type": "fragment"
    }
   },
   "source": [
    "* Primer parámetro: valores $x$.\n",
    "* Segundo parámetro: valores $y$.\n",
    "* Tercer parámetro: formato de presentación de datos. En este caso, ```'ro-'```, significa círculos (o) rojos (r) con línea continua (-).\n",
    "* El tercer argumento es opcional. Por defecto, `'b-'`, que significa línea continua(-) azul (b).\n",
    "* ```.axis()``` permite controlar tamaño de los ejes: [xmin, xmax, ymin, ymax]"
   ]
  },
  {
   "cell_type": "markdown",
   "id": "557f6e5c",
   "metadata": {
    "slideshow": {
     "slide_type": "slide"
    }
   },
   "source": [
    "* Para el tercer parámetro de ```pyplot``` existen variadas opciones, como se muestra a continuación:"
   ]
  },
  {
   "cell_type": "markdown",
   "id": "8072ed8b",
   "metadata": {
    "slideshow": {
     "slide_type": "fragment"
    }
   },
   "source": [
    "<table>\n",
    "<td>\n",
    "    <table style=\"font-size: 200%; float: center;\">\n",
    "    <thead>\n",
    "        <th style=\"text-align: center;\">Marcadores</th>\n",
    "        <th style=\"text-align: center;\">Descripción</th>\n",
    "    </thead>\n",
    "    <tr>\n",
    "        <td style=\"text-align: center;\"><code>\".\"</code></td>\n",
    "        <td style=\"text-align: center;\">Punto</td>\n",
    "    </tr>\n",
    "    <tr>\n",
    "        <td style=\"text-align: center;\"><code>\",\"</code></td>\n",
    "        <td style=\"text-align: center;\">Pixel</td>\n",
    "    </tr>\n",
    "    <tr>\n",
    "        <td style=\"text-align: center;\"><code>\"o\"</code></td>\n",
    "        <td style=\"text-align: center;\">Círculo</td>\n",
    "    </tr>\n",
    "    <tr>\n",
    "        <td style=\"text-align: center;\"><code>\"^\"</code></td>\n",
    "        <td style=\"text-align: center;\">Triángulo</td>\n",
    "    </tr>\n",
    "    <tr>\n",
    "        <td style=\"text-align: center;\"><code>\"&gt;\"</code></td>\n",
    "        <td style=\"text-align: center;\">Triángulo 90º</td>\n",
    "    </tr>\n",
    "    <tr>\n",
    "        <td style=\"text-align: center;\"><code>\"v\"</code></td>\n",
    "        <td style=\"text-align: center;\">Triángulo 180º</td>\n",
    "    </tr>\n",
    "    <tr>\n",
    "        <td style=\"text-align: center;\"><code>\"&lt;\"</code></td>\n",
    "        <td style=\"text-align: center;\">Triángulo 270º</td>\n",
    "    </tr>\n",
    "    <tr>\n",
    "        <td style=\"text-align: center;\"><code>\"1\"</code></td>\n",
    "        <td style=\"text-align: center;\">Ángulo 180º</td>\n",
    "    </tr>\n",
    "    <tr>\n",
    "        <td style=\"text-align: center;\"><code>\"2\"</code></td>\n",
    "        <td style=\"text-align: center;\">Ángulo</td>\n",
    "    </tr>\n",
    "    <tr>\n",
    "        <td style=\"text-align: center;\"><code>\"3\"</code></td>\n",
    "        <td style=\"text-align: center;\">Ángulo 270º</td>\n",
    "    </tr>\n",
    "    <tr>\n",
    "        <td style=\"text-align: center;\"><code>\"4\"</code></td>\n",
    "        <td style=\"text-align: center;\">Ángulo 90º</td>\n",
    "    </tr>\n",
    "    <tr>\n",
    "        <td style=\"text-align: center;\"><code>\"s\"</code></td>\n",
    "        <td style=\"text-align: center;\">Cuadrado</td>\n",
    "    </tr>\n",
    "    <tr>\n",
    "        <td style=\"text-align: center;\"><code>\"p\"</code></td>\n",
    "        <td style=\"text-align: center;\">Pentágono</td>\n",
    "    </tr>\n",
    "    <tr>\n",
    "        <td style=\"text-align: center;\"><code>\"*\"</code></td>\n",
    "        <td style=\"text-align: center;\">Estrella</td>\n",
    "    </tr>\n",
    "    <tr>\n",
    "        <td style=\"text-align: center;\"><code>\"h\"</code></td>\n",
    "        <td style=\"text-align: center;\">Hexágono 1</td>\n",
    "    </tr>\n",
    "    <tr>\n",
    "        <td style=\"text-align: center;\"><code>\"H\"</code></td>\n",
    "        <td style=\"text-align: center;\">Hexágono 2</td>\n",
    "    </tr>\n",
    "    <tr>\n",
    "        <td style=\"text-align: center;\"><code>\"+\"</code></td>\n",
    "        <td style=\"text-align: center;\">Cruz suma</td>\n",
    "    </tr>\n",
    "    <tr>\n",
    "        <td style=\"text-align: center;\"><code>\"x\"</code></td>\n",
    "        <td style=\"text-align: center;\">Equis</td>\n",
    "    </tr>\n",
    "    <tr>\n",
    "        <td style=\"text-align: center;\"><code>\"D\"</code></td>\n",
    "        <td style=\"text-align: center;\">Diamante</td>\n",
    "    </tr>\n",
    "    <tr>\n",
    "        <td style=\"text-align: center;\"><code>\"d\"</code></td>\n",
    "        <td style=\"text-align: center;\">Diamante delgado</td>\n",
    "    </tr>\n",
    "    <tr>\n",
    "        <td style=\"text-align: center;\"><code>\"|\"</code></td>\n",
    "        <td style=\"text-align: center;\">Línea Vertical</td>\n",
    "    </tr>\n",
    "    <tr>\n",
    "        <td style=\"text-align: center;\"><code>\"_\"</code></td>\n",
    "        <td style=\"text-align: center;\">Línea Horizontal</td>\n",
    "    </tr>\n",
    "    </table>\n",
    "</td>\n",
    "<td>\n",
    "    <table style=\"font-size: 200%; float: center;\">\n",
    "    <thead>\n",
    "        <th style=\"text-align: center;\">Estilos de Línea</th>\n",
    "        <th style=\"text-align: center;\">Descripción</th>\n",
    "    </thead>\n",
    "    <tr>\n",
    "        <td style=\"text-align: center;\"><code>\"-\"</code></td>\n",
    "        <td style=\"text-align: center;\">Línea Continua</td>\n",
    "    </tr>\n",
    "    <tr>\n",
    "        <td style=\"text-align: center;\"><code>\"--\"</code></td>\n",
    "        <td style=\"text-align: center;\">Línea Segmentada</td>\n",
    "    </tr>\n",
    "    <tr>\n",
    "        <td style=\"text-align: center;\"><code>\"-.\"</code></td>\n",
    "        <td style=\"text-align: center;\">Linea Segmento-Punteada</td>\n",
    "    </tr>\n",
    "    <tr>\n",
    "        <td style=\"text-align: center;\"><code>\":\"</code></td>\n",
    "        <td style=\"text-align: center;\">Línea Punteada</td>\n",
    "    </tr>\n",
    "    </table>\n",
    "    <table style=\"font-size: 200%; float: center;\">\n",
    "    <thead>\n",
    "        <th style=\"text-align: center;\">Color</th>\n",
    "        <th style=\"text-align: center;\">Descripción</th>\n",
    "    </thead>\n",
    "    <tr>\n",
    "        <td style=\"text-align: center;\"><code>\"b\"</code></td>\n",
    "        <td style=\"text-align: center;\">Azul</td>\n",
    "    </tr>\n",
    "    <tr>\n",
    "        <td style=\"text-align: center;\"><code>\"g\"</code></td>\n",
    "        <td style=\"text-align: center;\">Verde</td>\n",
    "    </tr>\n",
    "    <tr>\n",
    "        <td style=\"text-align: center;\"><code>\"r\"</code></td>\n",
    "        <td style=\"text-align: center;\">Rojo</td>\n",
    "    </tr>\n",
    "    <tr>\n",
    "        <td style=\"text-align: center;\"><code>\"c\"</code></td>\n",
    "        <td style=\"text-align: center;\">Cyan</td>\n",
    "    </tr>\n",
    "    <tr>\n",
    "        <td style=\"text-align: center;\"><code>\"m\"</code></td>\n",
    "        <td style=\"text-align: center;\">Magenta</td>\n",
    "    </tr>\n",
    "    <tr>\n",
    "        <td style=\"text-align: center;\"><code>\"y\"</code></td>\n",
    "        <td style=\"text-align: center;\">Amarillo</td>\n",
    "    </tr>\n",
    "    <tr>\n",
    "        <td style=\"text-align: center;\"><code>\"k\"</code></td>\n",
    "        <td style=\"text-align: center;\">Negro</td>\n",
    "    </tr>\n",
    "    <tr>\n",
    "        <td style=\"text-align: center;\"><code>\"w\"</code></td>\n",
    "        <td style=\"text-align: center;\">Blanco</td>\n",
    "    </tr>\n",
    "    </table>\n",
    "</td>\n",
    "</table>"
   ]
  },
  {
   "cell_type": "markdown",
   "id": "70d18360",
   "metadata": {
    "slideshow": {
     "slide_type": "slide"
    }
   },
   "source": [
    "## Múltiples Curvas en un Gráfico\n",
    "\n",
    "* Podemos usar `range()` para poder generar secuencias de números enteros y así gráficar varias curvas en un mismo plano.\n",
    "* Si se quiere generar secuencias de números con mayor precisión que la que entrega `range()`, se pueden usar los arreglos de `numpy`.\n",
    "* `numpy` es una biblioteca númerica-matemática científica de gran precisión.\n",
    "* La función de rango en `numpy` se llama `arange` y genera un tipo de dato `ndarray`, que es una lista con un solo tipo de dato. \n",
    "* Son más eficientes en el uso de memoria que las listas."
   ]
  },
  {
   "cell_type": "markdown",
   "id": "e6f7a951",
   "metadata": {
    "slideshow": {
     "slide_type": "slide"
    }
   },
   "source": [
    "### Ejemplo 2: ```.pyplot``` de varias curvas usando `numpy.arange()`."
   ]
  },
  {
   "cell_type": "code",
   "execution_count": null,
   "id": "d5584b80",
   "metadata": {
    "slideshow": {
     "slide_type": "fragment"
    }
   },
   "outputs": [],
   "source": [
    "from numpy import arange\n",
    "import matplotlib.pyplot as plt #from matplotlib import pyplot as plt\n",
    "\n",
    "t = arange(-5, 5.2, 0.5) #lo mismo que range() pero con floats :o!!!\n",
    "print(type(t)) #esto es un array de numpy, soporta floats!\n",
    "\n",
    "plt.figure(dpi=100) #resolución de figura (implica tamaño)\n",
    "\n",
    "plt.plot(t, t, 'r.--', t, t**2, 'bs-', t, t**3, 'g^:')\n",
    "#primeros 3 argumentos: línea roja con puntos y segmentada\n",
    "#segundos 3 argumentos: línea azul con cuadrados y continua\n",
    "#últimos 3 argumetnos: linea verde con triángulos y punteada\n",
    "plt.axis([-5,5,-50,50])\n",
    "\n",
    "plt.ylabel(\"Algunos numeritos en el eje y\")\n",
    "plt.xlabel(\"Algunos numeritos en el eje x\")\n",
    "plt.show()"
   ]
  },
  {
   "cell_type": "markdown",
   "id": "4082bc4f",
   "metadata": {
    "slideshow": {
     "slide_type": "slide"
    }
   },
   "source": [
    "## Formato de Datos: Parámetros de ```.plot()```\n",
    "\n",
    "* Se pueden entregar a la función ```plot()``` parámetros para mayor detalle de formato.\n",
    "* Se le pasan como *keyword arguments* o *parámetros por defecto* (véase prox. slide):\n",
    "    * Pares: argumento=valor.\n",
    "* Por ejemplo, se puede determinar ası́ un color para las lı́neas y otro diferente para los marcadores."
   ]
  },
  {
   "cell_type": "code",
   "execution_count": null,
   "id": "f510cdbb",
   "metadata": {
    "slideshow": {
     "slide_type": "fragment"
    }
   },
   "outputs": [],
   "source": [
    "from matplotlib import pyplot as plt\n",
    "plt.figure(dpi=100)\n",
    "plt.plot([1,2,3,4],[1,4,9,16], \n",
    "         'rH-.', \n",
    "         #color=\"forestgreen\", \n",
    "         markerfacecolor=\"#18246e\", \n",
    "         lw=2.5, #linewidth\n",
    "         ms=10) #markersize\n",
    "plt.axis([0,6,0,20])\n",
    "plt.show()"
   ]
  },
  {
   "cell_type": "markdown",
   "id": "028485ba",
   "metadata": {
    "slideshow": {
     "slide_type": "slide"
    }
   },
   "source": [
    "## Múltiples Gráficos\n",
    "\n",
    "* Originalmente nuestros gráficos son **figuras**. Una figura se define usando ```plt.figure()```, y permite puede elegir si estará compuesta por un o varios gráficos. \n",
    "* Para añadir un (sub)gráfico a nuestra figura usaremos el método ```.add_subplot()```.\n",
    "* Podemos usar ```.plot()``` por cada subgráfico y así separar curvas por gráfico si es que lo deseamos."
   ]
  },
  {
   "cell_type": "markdown",
   "id": "e7dae1bd",
   "metadata": {
    "slideshow": {
     "slide_type": "slide"
    }
   },
   "source": [
    "### Ejemplo 3: Dos figuras con un gráfico cada una."
   ]
  },
  {
   "cell_type": "code",
   "execution_count": null,
   "id": "7e840802",
   "metadata": {
    "slideshow": {
     "slide_type": "fragment"
    }
   },
   "outputs": [],
   "source": [
    "import matplotlib.pyplot as plt\n",
    "\n",
    "### figura1\n",
    "fig1 = plt.figure(dpi=100)\n",
    "ax1 = fig1.add_subplot(1,1,1) #1 fila, 1 columna y gráfico 1.\n",
    "ax1.plot([1,2,3,4], [1,4,9,16], 'o--', color=\"orchid\", markerfacecolor=\"lightgreen\", lw=2, ms=10)\n",
    "ax1.axis([0,5,0,17])\n",
    "\n",
    "### figura2\n",
    "fig2 = plt.figure(dpi=100)\n",
    "ax2 = fig2.add_subplot(1,1,1) #1 fila, 1 columna y gráfico 1.\n",
    "ax2.plot([1,2,3,4], [1,2,3,4], 'v-', color=\"skyblue\", markerfacecolor=\"magenta\", linewidth=3, ms=10)\n",
    "ax2.plot([1,2,3,4], [2,4,6,8], 'D-.', color=\"darkblue\", markerfacecolor=\"violet\", lw=2, ms=7)\n",
    "#como se definió un solo gráfico, ambas curvas van en el mismo plano.\n",
    "ax2.axis([0,6,0,10])\n",
    "\n",
    "plt.show()"
   ]
  },
  {
   "cell_type": "markdown",
   "id": "78554644",
   "metadata": {
    "slideshow": {
     "slide_type": "slide"
    }
   },
   "source": [
    "### Ejemplo 3: Una figura con dos gráficos."
   ]
  },
  {
   "cell_type": "code",
   "execution_count": null,
   "id": "52cb7ffc",
   "metadata": {
    "slideshow": {
     "slide_type": "fragment"
    }
   },
   "outputs": [],
   "source": [
    "import matplotlib.pyplot as plt\n",
    "\n",
    "### figura\n",
    "fig1 = plt.figure(dpi = 100)\n",
    "### subgráfico 1\n",
    "ax1 = fig1.add_subplot(1,2,1) #1 fila, 2 columna y 1 (sub)gráfico 1. Puede tener 2 (sub)gráficos\n",
    "ax1.plot([1,2,3,4], [1,4,9,16], 'o--', color=\"orchid\", markerfacecolor=\"lightgreen\")\n",
    "ax1.axis([0,6,0,20])\n",
    "\n",
    "### subgrafico 2\n",
    "ax2 = fig1.add_subplot(1,2,2) #1 fila, 2 columnas (debe ser igual que lo de arriba) y (sub)gráfico 2.\n",
    "ax2.plot([1,2,3,4], [1,2,3,4], 'v-', color=\"skyblue\", markerfacecolor=\"magenta\", linewidth=3)\n",
    "ax2.plot([1,2,3,4], [2,4,6,8], 'D-.', color=\"cyan\", markerfacecolor=\"purple\", lw=2)\n",
    "#como estamos trabajando en el segundo subgráfico, ambas curvas van en éste.\n",
    "ax2.axis([0,6,0,10])\n",
    "\n",
    "plt.show()"
   ]
  },
  {
   "cell_type": "markdown",
   "id": "2d1e235a",
   "metadata": {
    "slideshow": {
     "slide_type": "slide"
    }
   },
   "source": [
    "## Texto en Gráficos\n",
    "\n",
    "* La identificación textual de elementos de los gráficos es muy necesaria. `matplotlib` incluye la capacidad de colocar texto donde estimemos conveniente dentro de un gráfico."
   ]
  },
  {
   "cell_type": "code",
   "execution_count": null,
   "id": "01ad8f4a",
   "metadata": {
    "slideshow": {
     "slide_type": "fragment"
    }
   },
   "outputs": [],
   "source": [
    "from matplotlib import pyplot as plt\n",
    "\n",
    "fig = plt.figure(dpi=100)\n",
    "fig.suptitle(\"Titulo superior en negrita (bold)\", fontsize=14, fontweight=\"bold\")\n",
    "\n",
    "ax = fig.add_subplot(111)\n",
    "fig.subplots_adjust(top=0.85) #ajusta posición de gráfico\n",
    "\n",
    "ax.set_title(\"Titulo de ejes, x vs y\")\n",
    "ax.set_xlabel(\"Etiquta de eje x\")\n",
    "ax.set_ylabel(\"Etiquta de eje y\")\n",
    "\n",
    "#Texto a todo colooooooor!\n",
    "ax.text(1.5,8, 'texto a todo color en coordenadas (1.5, 8)', color=\"darkgreen\", fontsize=12)\n",
    "\n",
    "#Graficamos un pentagono y una linea segmentada\n",
    "ax.plot([2],[1], 'p', ms=10)\n",
    "ax.plot([1,2,3,4,5,6,7,8], [0.6,3,2,1,4,5,6,1], 'rd--', lw=2)\n",
    "\n",
    "# Generamos anotación con una flecha! flecha coordenada (2,1), texto de flecha coordenada (3,1)\n",
    "ax.annotate('Soy un pentagono indefenso', xy=(2,1), xytext=(4,7), arrowprops=dict(facecolor='black', shrink=0.02))\n",
    "\n",
    "ax.axis([0,10,0,10])\n",
    "plt.show()"
   ]
  },
  {
   "cell_type": "markdown",
   "id": "c0d82167",
   "metadata": {
    "slideshow": {
     "slide_type": "slide"
    }
   },
   "source": [
    "## Otros tipos de Gráficos: Torta\n"
   ]
  },
  {
   "cell_type": "code",
   "execution_count": 19,
   "id": "fb54045f",
   "metadata": {
    "slideshow": {
     "slide_type": "fragment"
    }
   },
   "outputs": [
    {
     "data": {
      "image/png": "[encoded data removed]",
      "text/plain": [
       "<Figure size 900x600 with 1 Axes>"
      ]
     },
     "metadata": {},
     "output_type": "display_data"
    }
   ],
   "source": [
    "import matplotlib.pyplot as plt\n",
    "\n",
    "#Gráfico de torta; cortes ordenados y gráficados contra reloj.\n",
    "size = [15, 40, 60, 20] \n",
    "etiquetas = [\"Tortugas\",\"Hamsters\",\"Doggos\",\"Cattos\"]\n",
    "explotar = [0.1, 0.1,0.1, 0.1] #sirve para destacar alguna porcion. El valor es cuanto se separa de la torta.\n",
    "\n",
    "fig1 = plt.figure(dpi=150)\n",
    "ax1 = fig1.add_subplot(1,1,1) \n",
    "\n",
    "ax1.pie(size, labels=etiquetas, explode=explotar, autopct=\"%.2f%%\", shadow = False, startangle=-90)\n",
    "# autopct = porcentaje automático; shadow = grafico con sombra; startangle = ángulo de inicio\n",
    "# %.2f%% formato de decimal, viene del lenguaje C. Sí, python está escrito en C.\n",
    "\n",
    "ax1.axis(\"equal\") #asegura proporcion igualitaria, vale decir, suma de porcentajes 100% (círculo)\n",
    "\n",
    "plt.show()"
   ]
  },
  {
   "cell_type": "markdown",
   "id": "6bb8b56c",
   "metadata": {
    "slideshow": {
     "slide_type": "slide"
    }
   },
   "source": [
    "## Otros tipos de Gráficos: Barras"
   ]
  },
  {
   "cell_type": "code",
   "execution_count": 22,
   "id": "85769e49",
   "metadata": {
    "slideshow": {
     "slide_type": "fragment"
    }
   },
   "outputs": [
    {
     "data": {
      "image/png": "[encoded data removed]",
      "text/plain": [
       "<Figure size 900x600 with 1 Axes>"
      ]
     },
     "metadata": {
      "needs_background": "light"
     },
     "output_type": "display_data"
    }
   ],
   "source": [
    "import matplotlib.pyplot as plt\n",
    "from numpy import arange\n",
    "from numpy.random import randint\n",
    "\n",
    "fig1 = plt.figure(dpi=150)\n",
    "ax1 = fig1.add_subplot(111)\n",
    "\n",
    "num = 10\n",
    "x = arange(num) #rango de 0 a 10\n",
    "#print(x)\n",
    "\n",
    "ya = randint(0,50,num) #lista de numeros aleatoreos entre 0 y 50\n",
    "yb = randint(0,50,num)\n",
    "#print(ya, yb)\n",
    "\n",
    "sep = 0.3\n",
    "\n",
    "#barras - parametro 1: valores de x; parametro 2: valores en y; parametro 3: ancho de barra.\n",
    "#print(x, ya, yb)\n",
    "ax1.bar(x, ya, sep, color='lightblue')\n",
    "#ax1.plot(x, ya, 'gD--', color='green')\n",
    "#ax1.bar(x+sep, yb, sep, color='darkblue')\n",
    "\n",
    "ax1.set_xticks(x+sep) #posición de etiquetas en x\n",
    "\n",
    "ax1.set_xticklabels([\"c1\",\"c2\",\"c3\",\"c4\",\"c5\",\"c6\",\"c7\",\"c8\",\"c9\",\"c10\"]) #nombre de etiquetas en x\n",
    "\n",
    "plt.show()"
   ]
  },
  {
   "cell_type": "markdown",
   "id": "23104e86",
   "metadata": {
    "slideshow": {
     "slide_type": "slide"
    }
   },
   "source": [
    "## Otros tipos de Gráficos: Histograma\n",
    "\n",
    "\n",
    "* Podemos mostrar nuestros datos como un histograma."
   ]
  },
  {
   "cell_type": "code",
   "execution_count": 23,
   "id": "0c203864",
   "metadata": {
    "slideshow": {
     "slide_type": "fragment"
    }
   },
   "outputs": [
    {
     "name": "stdout",
     "output_type": "stream",
     "text": [
      "[-0.47489641  0.89706232 -0.07019608 ... -1.72956163  0.5028208\n",
      "  0.63647383]\n"
     ]
    },
    {
     "data": {
      "image/png": "[encoded data removed]",
      "text/plain": [
       "<Figure size 600x400 with 1 Axes>"
      ]
     },
     "metadata": {
      "needs_background": "light"
     },
     "output_type": "display_data"
    }
   ],
   "source": [
    "import matplotlib.pyplot as plt\n",
    "from numpy.random import seed, randn\n",
    "\n",
    "#seed(1) #semilla aleatoria fija, permite generar siempre los mismos números.\n",
    "\n",
    "mu = 100 #media \n",
    "sigma = 15 #desviación estándar \n",
    "\n",
    "#Muestro desde distribución normal (0,1) adaptada a media y dev.est. de nuestro caso\n",
    "x = mu + sigma * randn(2000)\n",
    "print(randn(2000))\n",
    "\n",
    "#datos histograma\n",
    "num_bins = 10 #casillas/divisiones del histograma\n",
    "fig1 = plt.figure(dpi=100)\n",
    "ax1 = fig1.add_subplot(1,1,1)\n",
    "\n",
    "#Histograma - 1er argumento: datos del muestreo; 2do argumento: numero de divisiones, 3ero: normalizacion.\n",
    "#density = True, indica que suma de alturas de las divisiones es 1.\n",
    "ax1.hist(x, num_bins, density=True)\n",
    "\n",
    "ax1.set_xlabel(\"IQ\")\n",
    "ax1.set_ylabel(\"Probabilidad\")\n",
    "ax1.set_title(\"Histograma de IQ\")\n",
    "\n",
    "plt.show()"
   ]
  },
  {
   "cell_type": "code",
   "execution_count": 27,
   "id": "4b4e036a",
   "metadata": {},
   "outputs": [
    {
     "data": {
      "text/plain": [
       "(array([57., 48., 51., 44.]),\n",
       " array([ 0.  , 24.75, 49.5 , 74.25, 99.  ]),\n",
       " <BarContainer object of 4 artists>)"
      ]
     },
     "execution_count": 27,
     "metadata": {},
     "output_type": "execute_result"
    },
    {
     "data": {
      "image/png": "[encoded data removed]",
      "text/plain": [
       "<Figure size 432x288 with 1 Axes>"
      ]
     },
     "metadata": {
      "needs_background": "light"
     },
     "output_type": "display_data"
    }
   ],
   "source": [
    "x = np.random.randint(low=0, high=100, size=200)\n",
    "                      \n",
    "fig = plt.figure()\n",
    "ax = fig.add_subplot(1,1,1)\n",
    "                      \n",
    "ax.hist(x, 4)"
   ]
  },
  {
   "cell_type": "markdown",
   "id": "657fe8f3",
   "metadata": {
    "slideshow": {
     "slide_type": "slide"
    }
   },
   "source": [
    "## Documentación y mucho más\n",
    "\n",
    "* Existen muchos otros gráficos y código disponible para reutilizar en:\n",
    "\n",
    "<h1><center> <a href=\"https://matplotlib.org/gallery.html\">https://matplotlib.org/gallery.html</a></center></h1>"
   ]
  },
  {
   "cell_type": "markdown",
   "id": "41b7842b",
   "metadata": {
    "slideshow": {
     "slide_type": "slide"
    }
   },
   "source": [
    "# Seaborn\n",
    "\n",
    "- Es una biblioteca Python para visualización de datos basada en Matplotlib. \n",
    "- Provee una interfaz de alto nivel para la generación de gráficos atractivos e informativos\n",
    "- Si está trabajando en su entorno local, previo a su importación debe ser **instalada** \n",
    "    - ```pip install seaborn``` si usa ```pip```\n",
    "    - ```conda install seaborn``` si usa ```conda```"
   ]
  },
  {
   "cell_type": "code",
   "execution_count": 1,
   "id": "bae30717",
   "metadata": {
    "slideshow": {
     "slide_type": "slide"
    }
   },
   "outputs": [
    {
     "data": {
      "text/html": [
       "<div>\n",
       "<style scoped>\n",
       "    .dataframe tbody tr th:only-of-type {\n",
       "        vertical-align: middle;\n",
       "    }\n",
       "\n",
       "    .dataframe tbody tr th {\n",
       "        vertical-align: top;\n",
       "    }\n",
       "\n",
       "    .dataframe thead th {\n",
       "        text-align: right;\n",
       "    }\n",
       "</style>\n",
       "<table border=\"1\" class=\"dataframe\">\n",
       "  <thead>\n",
       "    <tr style=\"text-align: right;\">\n",
       "      <th></th>\n",
       "      <th>ID</th>\n",
       "      <th>Age</th>\n",
       "      <th>Height</th>\n",
       "      <th>Team</th>\n",
       "      <th>NOC</th>\n",
       "      <th>Games</th>\n",
       "      <th>Year</th>\n",
       "      <th>Season</th>\n",
       "      <th>City</th>\n",
       "      <th>Sport</th>\n",
       "      <th>Event</th>\n",
       "      <th>Medal</th>\n",
       "    </tr>\n",
       "  </thead>\n",
       "  <tbody>\n",
       "    <tr>\n",
       "      <th>0</th>\n",
       "      <td>5</td>\n",
       "      <td>21.0</td>\n",
       "      <td>185.0</td>\n",
       "      <td>Netherlands</td>\n",
       "      <td>NED</td>\n",
       "      <td>1988 Winter</td>\n",
       "      <td>1988</td>\n",
       "      <td>Winter</td>\n",
       "      <td>Calgary</td>\n",
       "      <td>Speed Skating</td>\n",
       "      <td>Speed Skating Women's 500 metres</td>\n",
       "      <td>NaN</td>\n",
       "    </tr>\n",
       "    <tr>\n",
       "      <th>1</th>\n",
       "      <td>5</td>\n",
       "      <td>21.0</td>\n",
       "      <td>185.0</td>\n",
       "      <td>Netherlands</td>\n",
       "      <td>NED</td>\n",
       "      <td>1988 Winter</td>\n",
       "      <td>1988</td>\n",
       "      <td>Winter</td>\n",
       "      <td>Calgary</td>\n",
       "      <td>Speed Skating</td>\n",
       "      <td>Speed Skating Women's 1,000 metres</td>\n",
       "      <td>NaN</td>\n",
       "    </tr>\n",
       "    <tr>\n",
       "      <th>2</th>\n",
       "      <td>5</td>\n",
       "      <td>25.0</td>\n",
       "      <td>185.0</td>\n",
       "      <td>Netherlands</td>\n",
       "      <td>NED</td>\n",
       "      <td>1992 Winter</td>\n",
       "      <td>1992</td>\n",
       "      <td>Winter</td>\n",
       "      <td>Albertville</td>\n",
       "      <td>Speed Skating</td>\n",
       "      <td>Speed Skating Women's 500 metres</td>\n",
       "      <td>NaN</td>\n",
       "    </tr>\n",
       "    <tr>\n",
       "      <th>3</th>\n",
       "      <td>5</td>\n",
       "      <td>25.0</td>\n",
       "      <td>185.0</td>\n",
       "      <td>Netherlands</td>\n",
       "      <td>NED</td>\n",
       "      <td>1992 Winter</td>\n",
       "      <td>1992</td>\n",
       "      <td>Winter</td>\n",
       "      <td>Albertville</td>\n",
       "      <td>Speed Skating</td>\n",
       "      <td>Speed Skating Women's 1,000 metres</td>\n",
       "      <td>NaN</td>\n",
       "    </tr>\n",
       "    <tr>\n",
       "      <th>4</th>\n",
       "      <td>5</td>\n",
       "      <td>27.0</td>\n",
       "      <td>185.0</td>\n",
       "      <td>Netherlands</td>\n",
       "      <td>NED</td>\n",
       "      <td>1994 Winter</td>\n",
       "      <td>1994</td>\n",
       "      <td>Winter</td>\n",
       "      <td>Lillehammer</td>\n",
       "      <td>Speed Skating</td>\n",
       "      <td>Speed Skating Women's 500 metres</td>\n",
       "      <td>NaN</td>\n",
       "    </tr>\n",
       "  </tbody>\n",
       "</table>\n",
       "</div>"
      ],
      "text/plain": [
       "   ID   Age  Height         Team  NOC        Games  Year  Season         City  \\\n",
       "0   5  21.0   185.0  Netherlands  NED  1988 Winter  1988  Winter      Calgary   \n",
       "1   5  21.0   185.0  Netherlands  NED  1988 Winter  1988  Winter      Calgary   \n",
       "2   5  25.0   185.0  Netherlands  NED  1992 Winter  1992  Winter  Albertville   \n",
       "3   5  25.0   185.0  Netherlands  NED  1992 Winter  1992  Winter  Albertville   \n",
       "4   5  27.0   185.0  Netherlands  NED  1994 Winter  1994  Winter  Lillehammer   \n",
       "\n",
       "           Sport                               Event Medal  \n",
       "0  Speed Skating    Speed Skating Women's 500 metres   NaN  \n",
       "1  Speed Skating  Speed Skating Women's 1,000 metres   NaN  \n",
       "2  Speed Skating    Speed Skating Women's 500 metres   NaN  \n",
       "3  Speed Skating  Speed Skating Women's 1,000 metres   NaN  \n",
       "4  Speed Skating    Speed Skating Women's 500 metres   NaN  "
      ]
     },
     "execution_count": 1,
     "metadata": {},
     "output_type": "execute_result"
    }
   ],
   "source": [
    "# Ten en cuenta que este cuaderno también está importando la biblioteca seaborn\n",
    "import matplotlib.pyplot as plt\n",
    "import seaborn as sns\n",
    "import pandas as pd\n",
    "import numpy as np\n",
    "\n",
    "filename = 'athleteEventsNoPersonal.csv'\n",
    "df = pd.read_csv(filename)\n",
    "df.head()"
   ]
  },
  {
   "cell_type": "code",
   "execution_count": 2,
   "id": "d5064fbb",
   "metadata": {
    "slideshow": {
     "slide_type": "fragment"
    }
   },
   "outputs": [
    {
     "data": {
      "text/plain": [
       "NOC\n",
       "BUR    199.000000\n",
       "BIZ    199.000000\n",
       "BEN    192.000000\n",
       "GAB    190.000000\n",
       "CAY    188.000000\n",
       "CRO    187.125000\n",
       "KOS    187.000000\n",
       "LAT    187.000000\n",
       "ISL    187.000000\n",
       "VAN    187.000000\n",
       "SRB    186.782609\n",
       "LTU    186.600000\n",
       "TGA    186.500000\n",
       "BIH    186.000000\n",
       "TKM    186.000000\n",
       "CIV    185.000000\n",
       "BOT    185.000000\n",
       "DJI    185.000000\n",
       "IRI    184.800000\n",
       "PLW    184.000000\n",
       "Name: Height, dtype: float64"
      ]
     },
     "execution_count": 2,
     "metadata": {},
     "output_type": "execute_result"
    }
   ],
   "source": [
    "yearFilter = df['Year'] == 2016\n",
    "top20Height = df.loc[yearFilter, :].groupby(['NOC'])['Height'].mean().sort_values(ascending = False).head(20)\n",
    "top20Height"
   ]
  },
  {
   "cell_type": "code",
   "execution_count": 3,
   "id": "11785df9",
   "metadata": {
    "slideshow": {
     "slide_type": "fragment"
    }
   },
   "outputs": [
    {
     "data": {
      "image/png": "[encoded data removed]",
      "text/plain": [
       "<Figure size 432x288 with 1 Axes>"
      ]
     },
     "metadata": {
      "needs_background": "light"
     },
     "output_type": "display_data"
    }
   ],
   "source": [
    "# Convierta datos de pandas para trazar usando matplotlib\n",
    "# Ten en cuenta que no es el gráfico más legible\n",
    "plt.bar(top20Height.index, top20Height.values);"
   ]
  },
  {
   "cell_type": "code",
   "execution_count": 4,
   "id": "208253d4",
   "metadata": {
    "slideshow": {
     "slide_type": "fragment"
    }
   },
   "outputs": [
    {
     "data": {
      "image/png": "[encoded data removed]",
      "text/plain": [
       "<Figure size 432x288 with 1 Axes>"
      ]
     },
     "metadata": {
      "needs_background": "light"
     },
     "output_type": "display_data"
    }
   ],
   "source": [
    "# Con seaborn, no es necesario convertir datos de pandas si tiene un marco de datos,\n",
    "# sin embargo, nuestros datos son una serie pandas, debes convertirlos.\n",
    "# Ten en cuenta que no es el gráfico más legible\n",
    "sns.barplot(x = top20Height.index, y = top20Height.values);"
   ]
  },
  {
   "cell_type": "code",
   "execution_count": 5,
   "id": "d55ba384",
   "metadata": {
    "slideshow": {
     "slide_type": "fragment"
    }
   },
   "outputs": [
    {
     "data": {
      "image/png": "[encoded data removed]",
      "text/plain": [
       "<Figure size 432x288 with 1 Axes>"
      ]
     },
     "metadata": {
      "needs_background": "light"
     },
     "output_type": "display_data"
    }
   ],
   "source": [
    "sns.barplot(x = top20Height.index, y = top20Height.values);\n",
    "plt.xticks(rotation = 90);"
   ]
  },
  {
   "cell_type": "code",
   "execution_count": 7,
   "id": "ee6ffad0",
   "metadata": {},
   "outputs": [
    {
     "data": {
      "text/plain": [
       "<AxesSubplot:xlabel='NOC'>"
      ]
     },
     "execution_count": 7,
     "metadata": {},
     "output_type": "execute_result"
    },
    {
     "data": {
      "image/png": "[encoded data removed]",
      "text/plain": [
       "<Figure size 432x288 with 1 Axes>"
      ]
     },
     "metadata": {
      "needs_background": "light"
     },
     "output_type": "display_data"
    }
   ],
   "source": [
    "top20Height.plot.bar()"
   ]
  },
  {
   "cell_type": "code",
   "execution_count": 11,
   "id": "34c52108",
   "metadata": {},
   "outputs": [
    {
     "data": {
      "text/plain": [
       "array([[5, 21.0, 185.0, ..., 'Speed Skating',\n",
       "        \"Speed Skating Women's 500 metres\", nan],\n",
       "       [5, 21.0, 185.0, ..., 'Speed Skating',\n",
       "        \"Speed Skating Women's 1,000 metres\", nan],\n",
       "       [5, 25.0, 185.0, ..., 'Speed Skating',\n",
       "        \"Speed Skating Women's 500 metres\", nan],\n",
       "       ...,\n",
       "       [135570, 27.0, 176.0, ..., 'Ski Jumping',\n",
       "        \"Ski Jumping Men's Large Hill, Team\", nan],\n",
       "       [135571, 30.0, 185.0, ..., 'Bobsleigh', \"Bobsleigh Men's Four\",\n",
       "        nan],\n",
       "       [135571, 34.0, 185.0, ..., 'Bobsleigh', \"Bobsleigh Men's Four\",\n",
       "        nan]], dtype=object)"
      ]
     },
     "execution_count": 11,
     "metadata": {},
     "output_type": "execute_result"
    }
   ],
   "source": [
    "df.to_numpy()"
   ]
  },
  {
   "cell_type": "markdown",
   "id": "4b83f2fd",
   "metadata": {
    "slideshow": {
     "slide_type": "slide"
    }
   },
   "source": [
    "# Actividad 2"
   ]
  },
  {
   "cell_type": "markdown",
   "id": "de761bc5",
   "metadata": {
    "slideshow": {
     "slide_type": "fragment"
    }
   },
   "source": [
    "- En el archivo [notas-genero.csv](notas-genero.csv), se encuentran almacenados los nombres, nota final y genero de los estudiantes que han cursado una asignatura. Realice lo siguiente (preocúpese de la estética):\n",
    "\n",
    "    1. Cargue la información de dicho archivo en un dataframe pandas.\n",
    "    2. Con la información extraída, genere un **histograma** de las notas del curso, mostrando en texto en el gráfico la media y la desviación estándar.\n",
    "    3. Ordene las notas y genere **un gráfico** (el que ud estime conveniente) de las notas ordenadas de menor a mayor.\n",
    "    4. Genere **dos gráficos de torta** en una misma figura, mostrando el porcentaje de hombres y mujeres en el curso a la izquierda, y a la derecha el porcentaje de aprobados y reprobados."
   ]
  },
  {
   "cell_type": "code",
   "execution_count": null,
   "id": "2a0a3261",
   "metadata": {
    "slideshow": {
     "slide_type": "skip"
    }
   },
   "outputs": [],
   "source": [
    "from IPython.core.display import HTML\n",
    "HTML(\"\"\"\n",
    "<style>\n",
    ".output_png {\n",
    "    display: table-cell;\n",
    "    text-align: center;\n",
    "    vertical-align: middle;\n",
    "}\n",
    "</style>\n",
    "\"\"\")\n",
    "#codigo extra, para que imagenes de matplotlib\n",
    "#estén centradas en las diapositivas, ejecutar antes de lanzar los ejemplos."
   ]
  }
 ],
 "metadata": {
  "celltoolbar": "Slideshow",
  "kernelspec": {
   "display_name": "Python 3 (ipykernel)",
   "language": "python",
   "name": "python3"
  },
  "language_info": {
   "codemirror_mode": {
    "name": "ipython",
    "version": 3
   },
   "file_extension": ".py",
   "mimetype": "text/x-python",
   "name": "python",
   "nbconvert_exporter": "python",
   "pygments_lexer": "ipython3",
   "version": "3.8.12"
  }
 },
 "nbformat": 4,
 "nbformat_minor": 5
}
